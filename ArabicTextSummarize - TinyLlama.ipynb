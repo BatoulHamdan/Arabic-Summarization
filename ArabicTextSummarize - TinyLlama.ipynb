{
 "cells": [
  {
   "cell_type": "code",
   "execution_count": 1,
   "id": "d45f692f-bc74-4f70-bc58-81e1ba8b641f",
   "metadata": {},
   "outputs": [],
   "source": [
    "import json\n",
    "import matplotlib.pyplot as plt\n",
    "\n",
    "from datasets import load_dataset\n",
    "import pandas as pd\n",
    "\n",
    "from huggingface_hub import login\n",
    "from peft import LoraConfig, get_peft_model, prepare_model_for_kbit_training\n",
    "from trl import SFTTrainer\n",
    "\n",
    "from transformers import TrainingArguments, Trainer, DataCollatorForSeq2Seq\n",
    "from transformers import AutoTokenizer, AutoModelForCausalLM, BitsAndBytesConfig, logging\n",
    "import torch"
   ]
  },
  {
   "cell_type": "code",
   "execution_count": 2,
   "id": "f81a324b-c353-4f89-8a93-b1a9ad250944",
   "metadata": {},
   "outputs": [
    {
     "name": "stdout",
     "output_type": "stream",
     "text": [
      "Dataset({\n",
      "    features: ['id', 'url', 'title', 'summary', 'text'],\n",
      "    num_rows: 37519\n",
      "})\n"
     ]
    }
   ],
   "source": [
    "dataset = load_dataset(\"csebuetnlp/xlsum\", name=\"arabic\", split=\"train\")\n",
    "print(dataset)"
   ]
  },
  {
   "cell_type": "code",
   "execution_count": 3,
   "id": "24e6666e-d08d-4b52-a425-c0e308faac98",
   "metadata": {},
   "outputs": [
    {
     "name": "stdout",
     "output_type": "stream",
     "text": [
      "{'id': '140323_russian_troops_crimea_naval_base', 'url': 'https://www.bbc.com/arabic/worldnews/2014/03/140323_russian_troops_crimea_naval_base', 'title': 'القوات الأوكرانية تبدأ الانسحاب من القرم', 'summary': 'بدأت القوات الأوكرانية الانسحاب من شبه جزيرة القرم.', 'text': 'وكان الرئيس الأوكراني المؤقت، الكسندر تورتشينوف، قد أمر بسحب جميع القوات الأوكرانية من القرم. وسيطرت قوات روسية صباح الاثنين على قاعدة بحرية أوكرانية في فيودوسيا، في ثالث هجوم من نوعه خلال 48 ساعة، وذلك بحسب تصريحات مسؤولين أوكرانيين لبي بي سي . وقال المتحدث باسم وزارة الدفاع الأوكرانية فلاديسلاف سيليزنيوف إن القوات الروسية هاجمت القاعدة وألقت القبض على الجنود الأوكرانيين في قاعدة فيودوسيا وقيدت أيادي ضباطهم. ومن المتوقع أن تسيطر الأزمة الأوكرانية على قمة مجموعة الدول الصناعية السبع في لاهاي. مواضيع قد تهمك نهاية وأكد الرئيس الأمريكي باراك أوباما خلال لقاء مع نظيره الصيني شى جين بينغ على أن \"واشنطن وبكين يمكنهما، بالعمل سويا، تعزيز القانون الدولي واحترام سيادة الدول\". وتسيطر قوات روسية حاليا على معظم القواعد العسكرية الأوكرانية في القرم التي أعلنت موسكو ضمها للاتحاد الروسي بعد استفتاء أجرته السلطات المحلية هناك. قلق بالغ وقال مارك لوين، مراسل بي بي سي في القرم، إن القوات الروسية تسيطر بشكل كامل على القاعدة، ونقلت الجنود الأوكرانيين بعيدا إلى مكان مجهول. وتعد قاعدة فيودوسيا واحدة من آخر القواعد العسكرية التي بقيت تحت سيطرة كييف، لكن قوات روسية ظلت تحاصرها لبعض الوقت، حسبما أفاد مراسلنا. واقتحمت القوات الروسية قاعدتين أخريين وسيطرت عليهما يوم الجمعة. وكان مسؤولون عسكريون روس أعلنوا في وقت سابق أن العلم الروسي أصبح يرفرف على 189 وحدة ومنشأة عسكرية أوكرانية في القرم. وقال ديفيد ستيرن مراسل بي بي سي في كييف إن الأوكرانيين يتابعون هذه التطورات بقلق بالغ. وأشار إلى أن السؤال الذي يدور الآن هو ماذا سيكون رد فعل أوكرانيا والغرب وما هي الخطوة الروسية المقبلة. وحذر قائد الناتو في أوروبا يوم الأحد من أن القوات الروسية المنتشرة على الحدود الشرقية لأوكرانيا قادرة على شن عملية تمتد حتى مولدوفا. قمة الدول الصناعية الكبرى أوباما: العقوبات الغربية على موسكو ستؤثر على الاقتصاد الروسي. ويلقي ضم روسيا لمنطقة القرم بظلاله على قمة مجموعة السبع، التي كان مزمعا عقدها منذ فترة طويلة، بشأن تهديدات الأمن النووي. ومن المتوقع أن يبحث زعماء المجموعة موقفا موحدا حيال الأزمة. وأكد الرئيس الأمريكي على أن أوروبا والولايات المتحدة متفقون على دعم الحكومة الأوكرانية وشعبها، مشيرا إلى أن العقوبات التي فرضت على موسكو ستؤثر على الاقتصاد الروسي. ومن المقرر أن يلتقي وزير الخارجية الأمريكي، جون كيري، مع نظيره الروسي، سيرغي لافروف، على هامش قمة مجموعة السبع. انقطاع الكهرباء من جهة أخرى، شكا سكان محليون في بعض مناطق القرم من انقطاع الكهرباء في وقت متأخر من الأحد. ولف الظلام العديد من المدن من بينها بعض أحياء العاصمة سيمفربول. وقالت شركة توريد الكهرباء في القرم \"كريمنيرغو\" في بيان بث على موقعها الإلكتروني إن عطلا فنيا أصاب أحد الخطوط التي تديرها شركة الكهرباء الوطنية الأوكرانية \"اوكرينيرغو\". ولم يتسن الحصول على تعليق من اوكرينيرغو، ولم يصدر أيضا تأكيد مستقل حول سبب انقطاع الكهرباء. ضم القرم وضمت روسيا القرم إليها عقب استفتاء أجري في المنطقة في 16 مارس/آذار. وجاءت الخطوة الروسية بعد أن أطاحت احتجاجات بالرئيس الأوكراني السابق الموالي لروسيا فيكتور يانوكوفيتش. وأكدت روسيا أنها تحركت لحماية مواطني القرم المتحدرين من أصول روسية ضد من وصفتهم \"بالفاشيين\" الذين انتقلوا إليها من البلد الأم أوكرانيا. وردت الولايات المتحدة والاتحاد الأوروبي بفرض سلسلة من العقوبات ضد أفراد من بينهم مسؤولون بارزون اتهمتهم واشنطن وبروكسل بلعب دور في ضم القرم. موالون لروسيا يتظاهرون في مدينة مدينة دونيتسك، شرقي أوكرانيا. تسيطر قوات روسية حاليا على معظم القواعد العسكرية الأوكرانية في القرم.'}\n"
     ]
    }
   ],
   "source": [
    "print(dataset[0])"
   ]
  },
  {
   "cell_type": "code",
   "execution_count": 4,
   "id": "0e068526-7fe0-4859-9c30-b0322c095443",
   "metadata": {},
   "outputs": [
    {
     "name": "stdout",
     "output_type": "stream",
     "text": [
      "Dataset Structure:\n",
      "------------------\n",
      "<class 'pandas.core.frame.DataFrame'>\n",
      "RangeIndex: 37519 entries, 0 to 37518\n",
      "Data columns (total 5 columns):\n",
      " #   Column   Non-Null Count  Dtype \n",
      "---  ------   --------------  ----- \n",
      " 0   id       37519 non-null  object\n",
      " 1   url      37519 non-null  object\n",
      " 2   title    37519 non-null  object\n",
      " 3   summary  37519 non-null  object\n",
      " 4   text     37519 non-null  object\n",
      "dtypes: object(5)\n",
      "memory usage: 1.4+ MB\n",
      "None\n",
      "\n",
      "First Few Rows of the Dataset:\n"
     ]
    },
    {
     "data": {
      "text/html": [
       "<div>\n",
       "<style scoped>\n",
       "    .dataframe tbody tr th:only-of-type {\n",
       "        vertical-align: middle;\n",
       "    }\n",
       "\n",
       "    .dataframe tbody tr th {\n",
       "        vertical-align: top;\n",
       "    }\n",
       "\n",
       "    .dataframe thead th {\n",
       "        text-align: right;\n",
       "    }\n",
       "</style>\n",
       "<table border=\"1\" class=\"dataframe\">\n",
       "  <thead>\n",
       "    <tr style=\"text-align: right;\">\n",
       "      <th></th>\n",
       "      <th>id</th>\n",
       "      <th>url</th>\n",
       "      <th>title</th>\n",
       "      <th>summary</th>\n",
       "      <th>text</th>\n",
       "    </tr>\n",
       "  </thead>\n",
       "  <tbody>\n",
       "    <tr>\n",
       "      <th>0</th>\n",
       "      <td>140323_russian_troops_crimea_naval_base</td>\n",
       "      <td>https://www.bbc.com/arabic/worldnews/2014/03/1...</td>\n",
       "      <td>القوات الأوكرانية تبدأ الانسحاب من القرم</td>\n",
       "      <td>بدأت القوات الأوكرانية الانسحاب من شبه جزيرة ا...</td>\n",
       "      <td>وكان الرئيس الأوكراني المؤقت، الكسندر تورتشينو...</td>\n",
       "    </tr>\n",
       "    <tr>\n",
       "      <th>1</th>\n",
       "      <td>130528_egypt_nile_dam</td>\n",
       "      <td>https://www.bbc.com/arabic/middleeast/2013/05/...</td>\n",
       "      <td>هل يفرض سد النهضة الإثيوبي واقعا جديدا على مصر؟</td>\n",
       "      <td>\"هل سيتم تغيير العبارة الشهيرة للمؤرخ اليوناني...</td>\n",
       "      <td>بحلول عام 2050 ستحتاج مصر إلى 21 مليار متر مكع...</td>\n",
       "    </tr>\n",
       "    <tr>\n",
       "      <th>2</th>\n",
       "      <td>world-47242349</td>\n",
       "      <td>https://www.bbc.com/arabic/world-47242349</td>\n",
       "      <td>تعرف على منطقة كشمير التي تسببت بحربين بين اله...</td>\n",
       "      <td>قالت الشرطة في القطاع الهندي من إقليم كشمير إن...</td>\n",
       "      <td>وذكرت وكالة الأنباء المحلية (جي.إن.إس) أن جماع...</td>\n",
       "    </tr>\n",
       "    <tr>\n",
       "      <th>3</th>\n",
       "      <td>vert-cul-55078328</td>\n",
       "      <td>https://www.bbc.com/arabic/vert-cul-55078328</td>\n",
       "      <td>ماذا تعرف عن العالم الخفي للمعابد اليابانية ال...</td>\n",
       "      <td>في عام 816، تجول راهب يدعى كوكاي، في المنحدرات...</td>\n",
       "      <td>ووقع اختياره على واد عمقه 800 متر محاط بثماني ...</td>\n",
       "    </tr>\n",
       "    <tr>\n",
       "      <th>4</th>\n",
       "      <td>141023_yemen_hodeida</td>\n",
       "      <td>https://www.bbc.com/arabic/middleeast/2014/10/...</td>\n",
       "      <td>اشتباك بين الحوثيين و\"الحراك التهامي\" في الحدي...</td>\n",
       "      <td>أكد مصدر في \"الحراك التهامي\" لأبناء محافظة الح...</td>\n",
       "      <td>مسلح حوثي في إب وقال المصدر إن المسلحين الحوثي...</td>\n",
       "    </tr>\n",
       "  </tbody>\n",
       "</table>\n",
       "</div>"
      ],
      "text/plain": [
       "                                        id  \\\n",
       "0  140323_russian_troops_crimea_naval_base   \n",
       "1                    130528_egypt_nile_dam   \n",
       "2                           world-47242349   \n",
       "3                        vert-cul-55078328   \n",
       "4                     141023_yemen_hodeida   \n",
       "\n",
       "                                                 url  \\\n",
       "0  https://www.bbc.com/arabic/worldnews/2014/03/1...   \n",
       "1  https://www.bbc.com/arabic/middleeast/2013/05/...   \n",
       "2          https://www.bbc.com/arabic/world-47242349   \n",
       "3       https://www.bbc.com/arabic/vert-cul-55078328   \n",
       "4  https://www.bbc.com/arabic/middleeast/2014/10/...   \n",
       "\n",
       "                                               title  \\\n",
       "0           القوات الأوكرانية تبدأ الانسحاب من القرم   \n",
       "1    هل يفرض سد النهضة الإثيوبي واقعا جديدا على مصر؟   \n",
       "2  تعرف على منطقة كشمير التي تسببت بحربين بين اله...   \n",
       "3  ماذا تعرف عن العالم الخفي للمعابد اليابانية ال...   \n",
       "4  اشتباك بين الحوثيين و\"الحراك التهامي\" في الحدي...   \n",
       "\n",
       "                                             summary  \\\n",
       "0  بدأت القوات الأوكرانية الانسحاب من شبه جزيرة ا...   \n",
       "1  \"هل سيتم تغيير العبارة الشهيرة للمؤرخ اليوناني...   \n",
       "2  قالت الشرطة في القطاع الهندي من إقليم كشمير إن...   \n",
       "3  في عام 816، تجول راهب يدعى كوكاي، في المنحدرات...   \n",
       "4  أكد مصدر في \"الحراك التهامي\" لأبناء محافظة الح...   \n",
       "\n",
       "                                                text  \n",
       "0  وكان الرئيس الأوكراني المؤقت، الكسندر تورتشينو...  \n",
       "1  بحلول عام 2050 ستحتاج مصر إلى 21 مليار متر مكع...  \n",
       "2  وذكرت وكالة الأنباء المحلية (جي.إن.إس) أن جماع...  \n",
       "3  ووقع اختياره على واد عمقه 800 متر محاط بثماني ...  \n",
       "4  مسلح حوثي في إب وقال المصدر إن المسلحين الحوثي...  "
      ]
     },
     "execution_count": 4,
     "metadata": {},
     "output_type": "execute_result"
    }
   ],
   "source": [
    "# Convert the dataset to a pandas DataFrame\n",
    "df = pd.DataFrame(dataset)\n",
    "\n",
    "# Display the dataset structure\n",
    "print(\"Dataset Structure:\")\n",
    "print(\"------------------\")\n",
    "print(df.info())\n",
    "\n",
    "# Display the first few rows of the DataFrame\n",
    "num_rows_to_display = 5\n",
    "print(\"\\nFirst Few Rows of the Dataset:\")\n",
    "df.head()"
   ]
  },
  {
   "cell_type": "code",
   "execution_count": 5,
   "id": "bc272fc2-6587-45f5-86ca-957971885f1d",
   "metadata": {},
   "outputs": [
    {
     "data": {
      "text/plain": [
       "Dataset({\n",
       "    features: ['summary', 'text'],\n",
       "    num_rows: 37519\n",
       "})"
      ]
     },
     "execution_count": 5,
     "metadata": {},
     "output_type": "execute_result"
    }
   ],
   "source": [
    "# Remove other columns\n",
    "dataset = dataset.remove_columns([\"id\",\"url\",\"title\"])\n",
    "dataset"
   ]
  },
  {
   "cell_type": "code",
   "execution_count": 6,
   "id": "03e53f21-3cba-4da9-bee6-8e6633e6dbb9",
   "metadata": {},
   "outputs": [],
   "source": [
    "# Split dataset to train and test\n",
    "dataset_split = dataset.train_test_split(test_size=0.3)\n",
    "train_data_txt = dataset_split[\"train\"]\n",
    "validation_data_txt = dataset_split[\"test\"]"
   ]
  },
  {
   "cell_type": "code",
   "execution_count": 7,
   "id": "3e385a40-bd6c-44b2-b009-1d545068b9d2",
   "metadata": {},
   "outputs": [],
   "source": [
    "# Load LLaMA model\n",
    "logging.set_verbosity_error()\n",
    "\n",
    "model_name = \"TinyLlama/TinyLlama-1.1B-Chat-v1.0\"\n",
    "\n",
    "tokenizer = AutoTokenizer.from_pretrained(model_name, use_fast=True)\n",
    "\n",
    "# Check if tokenizer already has a pad_token\n",
    "if tokenizer.pad_token is None:\n",
    "    tokenizer.add_special_tokens({'pad_token': '[PAD]'})"
   ]
  },
  {
   "cell_type": "code",
   "execution_count": 8,
   "id": "9564daaa-a561-4453-8646-711d290f6444",
   "metadata": {},
   "outputs": [],
   "source": [
    "bnb_config = BitsAndBytesConfig(\n",
    "    load_in_4bit=True,\n",
    "    bnb_4bit_compute_dtype=torch.float16,\n",
    "    bnb_4bit_use_double_quant=True,\n",
    "    bnb_4bit_quant_type=\"nf4\"\n",
    ")"
   ]
  },
  {
   "cell_type": "code",
   "execution_count": 9,
   "id": "aa0c1965-9745-4dd0-8fca-e13e14a2cc67",
   "metadata": {},
   "outputs": [],
   "source": [
    "model = AutoModelForCausalLM.from_pretrained(\n",
    "    model_name,\n",
    "    device_map=\"auto\",\n",
    "    torch_dtype=torch.float16,\n",
    "    trust_remote_code=True\n",
    ")\n",
    "\n",
    "model.config.pad_token_id = tokenizer.pad_token_id"
   ]
  },
  {
   "cell_type": "code",
   "execution_count": 10,
   "id": "4a9e62ce-a901-4385-9a4e-57a98511efcb",
   "metadata": {},
   "outputs": [],
   "source": [
    "model.resize_token_embeddings(len(tokenizer))\n",
    "model.config.pad_token_id = tokenizer.pad_token_id\n",
    "model.gradient_checkpointing_enable()\n",
    "\n",
    "model = prepare_model_for_kbit_training(model)"
   ]
  },
  {
   "cell_type": "code",
   "execution_count": 11,
   "id": "14c67880-ca05-4679-9adc-70bd26df5a0f",
   "metadata": {},
   "outputs": [
    {
     "name": "stdout",
     "output_type": "stream",
     "text": [
      "trainable params: 1,126,400 || all params: 1,101,174,784 || trainable%: 0.1023\n"
     ]
    }
   ],
   "source": [
    "# LoRA Configuration\n",
    "lora_config = LoraConfig(\n",
    "    r=8,\n",
    "    lora_alpha=16,\n",
    "    lora_dropout=0.05,\n",
    "    bias=\"none\",\n",
    "    task_type=\"CAUSAL_LM\",\n",
    "    target_modules=[\"q_proj\", \"v_proj\"]\n",
    ")\n",
    "\n",
    "model = get_peft_model(model, lora_config)\n",
    "model.print_trainable_parameters()"
   ]
  },
  {
   "cell_type": "code",
   "execution_count": 12,
   "id": "4f158a54-d73f-4604-a567-657a90010bc3",
   "metadata": {},
   "outputs": [],
   "source": [
    "max_length = 512\n",
    "\n",
    "def preprocess_function(examples):\n",
    "    input_ids_list = []\n",
    "    attention_masks = []\n",
    "    labels_list = []\n",
    "\n",
    "    for text, summary in zip(examples[\"text\"], examples[\"summary\"]):\n",
    "        # Full input (prompt + target)\n",
    "        prompt = f\"Summarize this article:\\n\\n{text}\\n\\nSummary:\"\n",
    "        full_text = prompt + \" \" + summary\n",
    "\n",
    "        # Tokenize full input\n",
    "        tokenized = tokenizer(\n",
    "            full_text,\n",
    "            max_length=max_length,\n",
    "            truncation=True,\n",
    "            padding=\"max_length\"\n",
    "        )\n",
    "\n",
    "        input_ids = tokenized[\"input_ids\"]\n",
    "        attention_mask = tokenized[\"attention_mask\"]\n",
    "\n",
    "        # Mask out prompt tokens in labels\n",
    "        labels = input_ids.copy()\n",
    "        prompt_ids = tokenizer(prompt, truncation=True, max_length=max_length)[\"input_ids\"]\n",
    "        prompt_len = len(prompt_ids)\n",
    "\n",
    "        labels[:prompt_len] = [-100] * prompt_len\n",
    "\n",
    "        input_ids_list.append(input_ids)\n",
    "        attention_masks.append(attention_mask)\n",
    "        labels_list.append(labels)\n",
    "\n",
    "    return {\n",
    "        \"input_ids\": input_ids_list,\n",
    "        \"attention_mask\": attention_masks,\n",
    "        \"labels\": labels_list,\n",
    "    }"
   ]
  },
  {
   "cell_type": "code",
   "execution_count": 13,
   "id": "ee106b5f-8fa1-4038-a346-ee1b6ce5f3ba",
   "metadata": {},
   "outputs": [],
   "source": [
    "training_args = TrainingArguments(\n",
    "    output_dir=\"./tinyllama-xlsum-arabic2\",\n",
    "    per_device_train_batch_size=4,\n",
    "    per_device_eval_batch_size=4,\n",
    "    num_train_epochs=5,\n",
    "    logging_dir=\"./logs\",\n",
    "    logging_steps=50,\n",
    "    eval_steps=200,\n",
    "    save_steps=500,\n",
    "    save_total_limit=2,\n",
    "    fp16=True,\n",
    "    gradient_accumulation_steps=2,\n",
    "    warmup_steps=100,\n",
    "    weight_decay=0.01,\n",
    "    report_to=\"none\"\n",
    ")"
   ]
  },
  {
   "cell_type": "code",
   "execution_count": 14,
   "id": "40722b79-d9d5-4445-b0ce-33db96be2aec",
   "metadata": {},
   "outputs": [
    {
     "data": {
      "application/vnd.jupyter.widget-view+json": {
       "model_id": "34dae0eb8e63404cb20291c2e8d07292",
       "version_major": 2,
       "version_minor": 0
      },
      "text/plain": [
       "Map:   0%|          | 0/26263 [00:00<?, ? examples/s]"
      ]
     },
     "metadata": {},
     "output_type": "display_data"
    },
    {
     "data": {
      "application/vnd.jupyter.widget-view+json": {
       "model_id": "b6fc547d42aa443782feb22cf4418c38",
       "version_major": 2,
       "version_minor": 0
      },
      "text/plain": [
       "Map:   0%|          | 0/11256 [00:00<?, ? examples/s]"
      ]
     },
     "metadata": {},
     "output_type": "display_data"
    }
   ],
   "source": [
    "tokenized_train = train_data_txt.map(preprocess_function, batched=True, remove_columns=train_data_txt.column_names)\n",
    "tokenized_val = validation_data_txt.map(preprocess_function, batched=True, remove_columns=validation_data_txt.column_names)"
   ]
  },
  {
   "cell_type": "code",
   "execution_count": 15,
   "id": "19c56725-0aa8-4f2b-be34-feba369c2a65",
   "metadata": {
    "scrolled": true
   },
   "outputs": [
    {
     "data": {
      "application/vnd.jupyter.widget-view+json": {
       "model_id": "4d01b6e6b5c04803a9614b1d1f72fd8d",
       "version_major": 2,
       "version_minor": 0
      },
      "text/plain": [
       "Truncating train dataset:   0%|          | 0/26263 [00:00<?, ? examples/s]"
      ]
     },
     "metadata": {},
     "output_type": "display_data"
    },
    {
     "data": {
      "application/vnd.jupyter.widget-view+json": {
       "model_id": "4020a7ea4a264049a4e72ab729fc0172",
       "version_major": 2,
       "version_minor": 0
      },
      "text/plain": [
       "Truncating eval dataset:   0%|          | 0/11256 [00:00<?, ? examples/s]"
      ]
     },
     "metadata": {},
     "output_type": "display_data"
    },
    {
     "name": "stdout",
     "output_type": "stream",
     "text": [
      "{'loss': 1.6606, 'grad_norm': 0.42898812890052795, 'learning_rate': 2.4e-05, 'num_tokens': 204800.0, 'mean_token_accuracy': 0.5390117421746254, 'epoch': 0.015229972586049346}\n",
      "{'loss': 1.6166, 'grad_norm': 0.5782985687255859, 'learning_rate': 4.9e-05, 'num_tokens': 409600.0, 'mean_token_accuracy': 0.5441585138440133, 'epoch': 0.03045994517209869}\n",
      "{'loss': 1.5419, 'grad_norm': 0.7376047372817993, 'learning_rate': 4.985289610787619e-05, 'num_tokens': 614400.0, 'mean_token_accuracy': 0.555733854174614, 'epoch': 0.045689917758148034}\n",
      "{'loss': 1.4933, 'grad_norm': 0.8008075952529907, 'learning_rate': 4.9699662886913885e-05, 'num_tokens': 819200.0, 'mean_token_accuracy': 0.5646281802654266, 'epoch': 0.06091989034419738}\n",
      "{'loss': 1.4765, 'grad_norm': 0.8264291882514954, 'learning_rate': 4.9546429665951584e-05, 'num_tokens': 1024000.0, 'mean_token_accuracy': 0.5683512723445893, 'epoch': 0.07614986293024673}\n",
      "{'loss': 1.4629, 'grad_norm': 0.9239597320556641, 'learning_rate': 4.9393196444989276e-05, 'num_tokens': 1228800.0, 'mean_token_accuracy': 0.5721477502584458, 'epoch': 0.09137983551629607}\n",
      "{'loss': 1.4691, 'grad_norm': 0.8674524426460266, 'learning_rate': 4.923996322402697e-05, 'num_tokens': 1433600.0, 'mean_token_accuracy': 0.5700782799720764, 'epoch': 0.10660980810234541}\n",
      "{'loss': 1.4454, 'grad_norm': 0.9202178716659546, 'learning_rate': 4.908673000306467e-05, 'num_tokens': 1638400.0, 'mean_token_accuracy': 0.5757044982910157, 'epoch': 0.12183978068839477}\n",
      "{'loss': 1.4528, 'grad_norm': 0.968099057674408, 'learning_rate': 4.893349678210236e-05, 'num_tokens': 1843200.0, 'mean_token_accuracy': 0.5752495098114013, 'epoch': 0.1370697532744441}\n",
      "{'loss': 1.4466, 'grad_norm': 0.9081798195838928, 'learning_rate': 4.878026356114005e-05, 'num_tokens': 2048000.0, 'mean_token_accuracy': 0.575215265750885, 'epoch': 0.15229972586049345}\n",
      "{'loss': 1.4445, 'grad_norm': 0.9604951739311218, 'learning_rate': 4.862703034017775e-05, 'num_tokens': 2252800.0, 'mean_token_accuracy': 0.5766340517997741, 'epoch': 0.1675296984465428}\n",
      "{'loss': 1.4301, 'grad_norm': 1.0031346082687378, 'learning_rate': 4.8473797119215444e-05, 'num_tokens': 2457600.0, 'mean_token_accuracy': 0.5799755376577377, 'epoch': 0.18275967103259214}\n",
      "{'loss': 1.4404, 'grad_norm': 1.0538251399993896, 'learning_rate': 4.832056389825314e-05, 'num_tokens': 2662400.0, 'mean_token_accuracy': 0.5782583206892014, 'epoch': 0.1979896436186415}\n",
      "{'loss': 1.4412, 'grad_norm': 1.0258253812789917, 'learning_rate': 4.816733067729084e-05, 'num_tokens': 2867200.0, 'mean_token_accuracy': 0.5759393346309661, 'epoch': 0.21321961620469082}\n",
      "{'loss': 1.422, 'grad_norm': 0.8967238664627075, 'learning_rate': 4.8014097456328534e-05, 'num_tokens': 3072000.0, 'mean_token_accuracy': 0.5828424692153931, 'epoch': 0.22844958879074018}\n",
      "{'loss': 1.4247, 'grad_norm': 0.9747828245162964, 'learning_rate': 4.7860864235366234e-05, 'num_tokens': 3276800.0, 'mean_token_accuracy': 0.5816242653131485, 'epoch': 0.24367956137678953}\n",
      "{'loss': 1.4211, 'grad_norm': 0.9536914229393005, 'learning_rate': 4.7707631014403926e-05, 'num_tokens': 3481600.0, 'mean_token_accuracy': 0.5822945213317872, 'epoch': 0.2589095339628389}\n",
      "{'loss': 1.4123, 'grad_norm': 1.0517691373825073, 'learning_rate': 4.755439779344162e-05, 'num_tokens': 3686400.0, 'mean_token_accuracy': 0.5855430543422699, 'epoch': 0.2741395065488882}\n",
      "{'loss': 1.4097, 'grad_norm': 1.024174690246582, 'learning_rate': 4.740116457247932e-05, 'num_tokens': 3891200.0, 'mean_token_accuracy': 0.5862573391199112, 'epoch': 0.28936947913493755}\n",
      "{'loss': 1.4136, 'grad_norm': 0.9761618375778198, 'learning_rate': 4.724793135151701e-05, 'num_tokens': 4096000.0, 'mean_token_accuracy': 0.5839090019464492, 'epoch': 0.3045994517209869}\n",
      "{'loss': 1.4187, 'grad_norm': 0.9266036152839661, 'learning_rate': 4.70946981305547e-05, 'num_tokens': 4300800.0, 'mean_token_accuracy': 0.5841438364982605, 'epoch': 0.31982942430703626}\n",
      "{'loss': 1.4211, 'grad_norm': 1.0413888692855835, 'learning_rate': 4.69414649095924e-05, 'num_tokens': 4505600.0, 'mean_token_accuracy': 0.58303327023983, 'epoch': 0.3350593968930856}\n",
      "{'loss': 1.408, 'grad_norm': 1.0289345979690552, 'learning_rate': 4.6788231688630094e-05, 'num_tokens': 4710400.0, 'mean_token_accuracy': 0.5865998047590256, 'epoch': 0.3502893694791349}\n",
      "{'loss': 1.409, 'grad_norm': 0.9958289861679077, 'learning_rate': 4.663499846766779e-05, 'num_tokens': 4915200.0, 'mean_token_accuracy': 0.5861105710268021, 'epoch': 0.36551934206518427}\n",
      "{'loss': 1.4175, 'grad_norm': 1.0166852474212646, 'learning_rate': 4.648176524670549e-05, 'num_tokens': 5120000.0, 'mean_token_accuracy': 0.5836105674505234, 'epoch': 0.38074931465123363}\n",
      "{'loss': 1.4076, 'grad_norm': 1.0004477500915527, 'learning_rate': 4.6328532025743184e-05, 'num_tokens': 5324800.0, 'mean_token_accuracy': 0.5867123287916184, 'epoch': 0.395979287237283}\n",
      "{'loss': 1.4031, 'grad_norm': 1.0258495807647705, 'learning_rate': 4.617529880478088e-05, 'num_tokens': 5529600.0, 'mean_token_accuracy': 0.5875440341234207, 'epoch': 0.41120925982333234}\n",
      "{'loss': 1.3957, 'grad_norm': 0.9910637140274048, 'learning_rate': 4.6022065583818576e-05, 'num_tokens': 5734400.0, 'mean_token_accuracy': 0.5897162413597107, 'epoch': 0.42643923240938164}\n",
      "{'loss': 1.3894, 'grad_norm': 1.0035498142242432, 'learning_rate': 4.586883236285627e-05, 'num_tokens': 5939200.0, 'mean_token_accuracy': 0.5926027399301529, 'epoch': 0.441669204995431}\n",
      "{'loss': 1.4116, 'grad_norm': 0.995881974697113, 'learning_rate': 4.571559914189397e-05, 'num_tokens': 6144000.0, 'mean_token_accuracy': 0.5858512699604035, 'epoch': 0.45689917758148035}\n",
      "{'loss': 1.3811, 'grad_norm': 1.0589393377304077, 'learning_rate': 4.556236592093166e-05, 'num_tokens': 6348800.0, 'mean_token_accuracy': 0.5936692768335342, 'epoch': 0.4721291501675297}\n",
      "{'loss': 1.399, 'grad_norm': 0.9502948522567749, 'learning_rate': 4.540913269996935e-05, 'num_tokens': 6553600.0, 'mean_token_accuracy': 0.5901320952177048, 'epoch': 0.48735912275357907}\n",
      "{'loss': 1.4051, 'grad_norm': 0.9936268329620361, 'learning_rate': 4.525589947900705e-05, 'num_tokens': 6758400.0, 'mean_token_accuracy': 0.5884980434179305, 'epoch': 0.5025890953396284}\n",
      "{'loss': 1.3939, 'grad_norm': 0.9836093187332153, 'learning_rate': 4.510266625804474e-05, 'num_tokens': 6963200.0, 'mean_token_accuracy': 0.5905724078416824, 'epoch': 0.5178190679256778}\n",
      "{'loss': 1.395, 'grad_norm': 1.004415512084961, 'learning_rate': 4.494943303708244e-05, 'num_tokens': 7168000.0, 'mean_token_accuracy': 0.5912769097089767, 'epoch': 0.5330490405117271}\n",
      "{'loss': 1.3866, 'grad_norm': 1.035914659500122, 'learning_rate': 4.4796199816120135e-05, 'num_tokens': 7372800.0, 'mean_token_accuracy': 0.5919129192829132, 'epoch': 0.5482790130977764}\n",
      "{'loss': 1.3804, 'grad_norm': 0.9485093951225281, 'learning_rate': 4.4642966595157834e-05, 'num_tokens': 7577600.0, 'mean_token_accuracy': 0.5939970660209656, 'epoch': 0.5635089856838258}\n",
      "{'loss': 1.37, 'grad_norm': 1.0168262720108032, 'learning_rate': 4.448973337419553e-05, 'num_tokens': 7782400.0, 'mean_token_accuracy': 0.5970009809732437, 'epoch': 0.5787389582698751}\n",
      "{'loss': 1.3799, 'grad_norm': 1.0372800827026367, 'learning_rate': 4.4336500153233225e-05, 'num_tokens': 7987200.0, 'mean_token_accuracy': 0.5938307207822799, 'epoch': 0.5939689308559245}\n",
      "{'loss': 1.3852, 'grad_norm': 0.9821162819862366, 'learning_rate': 4.418326693227092e-05, 'num_tokens': 8192000.0, 'mean_token_accuracy': 0.5932925641536713, 'epoch': 0.6091989034419738}\n",
      "{'loss': 1.383, 'grad_norm': 1.0491873025894165, 'learning_rate': 4.403003371130862e-05, 'num_tokens': 8396800.0, 'mean_token_accuracy': 0.5923874753713608, 'epoch': 0.6244288760280231}\n",
      "{'loss': 1.3757, 'grad_norm': 1.0067683458328247, 'learning_rate': 4.387680049034631e-05, 'num_tokens': 8601600.0, 'mean_token_accuracy': 0.5962377697229385, 'epoch': 0.6396588486140725}\n",
      "{'loss': 1.3713, 'grad_norm': 1.0761001110076904, 'learning_rate': 4.3723567269384e-05, 'num_tokens': 8806400.0, 'mean_token_accuracy': 0.5956115460395813, 'epoch': 0.6548888212001218}\n",
      "{'loss': 1.3645, 'grad_norm': 0.9829118251800537, 'learning_rate': 4.35703340484217e-05, 'num_tokens': 9011200.0, 'mean_token_accuracy': 0.5974168288707733, 'epoch': 0.6701187937861712}\n",
      "{'loss': 1.3626, 'grad_norm': 1.0205795764923096, 'learning_rate': 4.341710082745939e-05, 'num_tokens': 9216000.0, 'mean_token_accuracy': 0.5990900200605392, 'epoch': 0.6853487663722205}\n",
      "{'loss': 1.3837, 'grad_norm': 0.9693259000778198, 'learning_rate': 4.3263867606497085e-05, 'num_tokens': 9420800.0, 'mean_token_accuracy': 0.5930675154924393, 'epoch': 0.7005787389582698}\n",
      "{'loss': 1.3619, 'grad_norm': 1.078717589378357, 'learning_rate': 4.3110634385534784e-05, 'num_tokens': 9625600.0, 'mean_token_accuracy': 0.5985078275203705, 'epoch': 0.7158087115443192}\n",
      "{'loss': 1.3782, 'grad_norm': 1.1287202835083008, 'learning_rate': 4.2957401164572483e-05, 'num_tokens': 9830400.0, 'mean_token_accuracy': 0.5945841473340988, 'epoch': 0.7310386841303685}\n",
      "{'loss': 1.3729, 'grad_norm': 1.2463836669921875, 'learning_rate': 4.280416794361018e-05, 'num_tokens': 10035200.0, 'mean_token_accuracy': 0.5960910016298294, 'epoch': 0.746268656716418}\n",
      "{'loss': 1.38, 'grad_norm': 0.9476287961006165, 'learning_rate': 4.2650934722647875e-05, 'num_tokens': 10240000.0, 'mean_token_accuracy': 0.5937475544214249, 'epoch': 0.7614986293024673}\n",
      "{'loss': 1.3925, 'grad_norm': 1.0506536960601807, 'learning_rate': 4.249770150168557e-05, 'num_tokens': 10444800.0, 'mean_token_accuracy': 0.5896868878602981, 'epoch': 0.7767286018885166}\n",
      "{'loss': 1.3826, 'grad_norm': 1.0580575466156006, 'learning_rate': 4.2344468280723266e-05, 'num_tokens': 10649600.0, 'mean_token_accuracy': 0.5939187890291214, 'epoch': 0.791958574474566}\n",
      "{'loss': 1.3661, 'grad_norm': 1.0823726654052734, 'learning_rate': 4.219123505976096e-05, 'num_tokens': 10854400.0, 'mean_token_accuracy': 0.5981506866216659, 'epoch': 0.8071885470606153}\n",
      "{'loss': 1.3608, 'grad_norm': 0.9922669529914856, 'learning_rate': 4.203800183879865e-05, 'num_tokens': 11059200.0, 'mean_token_accuracy': 0.5999951094388962, 'epoch': 0.8224185196466647}\n",
      "{'loss': 1.376, 'grad_norm': 1.0846896171569824, 'learning_rate': 4.188476861783635e-05, 'num_tokens': 11264000.0, 'mean_token_accuracy': 0.5957632094621659, 'epoch': 0.837648492232714}\n",
      "{'loss': 1.3869, 'grad_norm': 1.0344784259796143, 'learning_rate': 4.173153539687404e-05, 'num_tokens': 11468800.0, 'mean_token_accuracy': 0.5929305291175843, 'epoch': 0.8528784648187633}\n",
      "{'loss': 1.3655, 'grad_norm': 1.0412474870681763, 'learning_rate': 4.1578302175911735e-05, 'num_tokens': 11673600.0, 'mean_token_accuracy': 0.5985763216018677, 'epoch': 0.8681084374048127}\n",
      "{'loss': 1.3767, 'grad_norm': 1.074381947517395, 'learning_rate': 4.1425068954949434e-05, 'num_tokens': 11878400.0, 'mean_token_accuracy': 0.5949999988079071, 'epoch': 0.883338409990862}\n",
      "{'loss': 1.3757, 'grad_norm': 1.02289617061615, 'learning_rate': 4.127183573398713e-05, 'num_tokens': 12083200.0, 'mean_token_accuracy': 0.5957485336065292, 'epoch': 0.8985683825769114}\n",
      "{'loss': 1.3638, 'grad_norm': 1.0356824398040771, 'learning_rate': 4.1118602513024825e-05, 'num_tokens': 12288000.0, 'mean_token_accuracy': 0.599907049536705, 'epoch': 0.9137983551629607}\n",
      "{'loss': 1.3716, 'grad_norm': 1.0282557010650635, 'learning_rate': 4.0965369292062525e-05, 'num_tokens': 12492800.0, 'mean_token_accuracy': 0.5953620380163193, 'epoch': 0.92902832774901}\n",
      "{'loss': 1.3667, 'grad_norm': 1.0042484998703003, 'learning_rate': 4.081213607110022e-05, 'num_tokens': 12697600.0, 'mean_token_accuracy': 0.5987426620721817, 'epoch': 0.9442583003350594}\n",
      "{'loss': 1.3663, 'grad_norm': 1.0946964025497437, 'learning_rate': 4.0658902850137916e-05, 'num_tokens': 12902400.0, 'mean_token_accuracy': 0.5987084197998047, 'epoch': 0.9594882729211087}\n",
      "{'loss': 1.3757, 'grad_norm': 1.0729641914367676, 'learning_rate': 4.050566962917561e-05, 'num_tokens': 13107200.0, 'mean_token_accuracy': 0.5953718203306199, 'epoch': 0.9747182455071581}\n",
      "{'loss': 1.3489, 'grad_norm': 1.049063801765442, 'learning_rate': 4.03524364082133e-05, 'num_tokens': 13312000.0, 'mean_token_accuracy': 0.6034393364191055, 'epoch': 0.9899482180932074}\n",
      "{'loss': 1.3592, 'grad_norm': 1.104322075843811, 'learning_rate': 4.0199203187251e-05, 'num_tokens': 13516288.0, 'mean_token_accuracy': 0.6002005851268768, 'epoch': 1.0051781906792567}\n",
      "{'loss': 1.3618, 'grad_norm': 1.0422896146774292, 'learning_rate': 4.004596996628869e-05, 'num_tokens': 13721088.0, 'mean_token_accuracy': 0.599637964963913, 'epoch': 1.0204081632653061}\n",
      "{'loss': 1.373, 'grad_norm': 1.0474493503570557, 'learning_rate': 3.9892736745326385e-05, 'num_tokens': 13925888.0, 'mean_token_accuracy': 0.5973140895366669, 'epoch': 1.0356381358513556}\n",
      "{'loss': 1.3641, 'grad_norm': 1.088449239730835, 'learning_rate': 3.9739503524364084e-05, 'num_tokens': 14130688.0, 'mean_token_accuracy': 0.5986546009778977, 'epoch': 1.0508681084374047}\n",
      "{'loss': 1.366, 'grad_norm': 1.0412858724594116, 'learning_rate': 3.9586270303401776e-05, 'num_tokens': 14335488.0, 'mean_token_accuracy': 0.5987279856204987, 'epoch': 1.0660980810234542}\n",
      "{'loss': 1.3566, 'grad_norm': 1.0682213306427002, 'learning_rate': 3.9433037082439475e-05, 'num_tokens': 14540288.0, 'mean_token_accuracy': 0.6013111537694931, 'epoch': 1.0813280536095036}\n",
      "{'loss': 1.3615, 'grad_norm': 1.1038403511047363, 'learning_rate': 3.9279803861477174e-05, 'num_tokens': 14745088.0, 'mean_token_accuracy': 0.5995596903562546, 'epoch': 1.0965580261955528}\n",
      "{'loss': 1.3466, 'grad_norm': 1.0145480632781982, 'learning_rate': 3.9126570640514867e-05, 'num_tokens': 14949888.0, 'mean_token_accuracy': 0.6032534247636795, 'epoch': 1.1117879987816022}\n",
      "{'loss': 1.3607, 'grad_norm': 1.0204339027404785, 'learning_rate': 3.8973337419552566e-05, 'num_tokens': 15154688.0, 'mean_token_accuracy': 0.6005675125122071, 'epoch': 1.1270179713676516}\n",
      "{'loss': 1.3569, 'grad_norm': 0.9959417581558228, 'learning_rate': 3.882010419859026e-05, 'num_tokens': 15359488.0, 'mean_token_accuracy': 0.6012573385238648, 'epoch': 1.1422479439537008}\n",
      "{'loss': 1.3529, 'grad_norm': 1.0114563703536987, 'learning_rate': 3.866687097762795e-05, 'num_tokens': 15564288.0, 'mean_token_accuracy': 0.6024168330430985, 'epoch': 1.1574779165397502}\n",
      "{'loss': 1.3476, 'grad_norm': 1.0556573867797852, 'learning_rate': 3.851363775666565e-05, 'num_tokens': 15769088.0, 'mean_token_accuracy': 0.6036399257183075, 'epoch': 1.1727078891257996}\n",
      "{'loss': 1.3645, 'grad_norm': 1.0473393201828003, 'learning_rate': 3.836040453570334e-05, 'num_tokens': 15973888.0, 'mean_token_accuracy': 0.5968052875995636, 'epoch': 1.187937861711849}\n",
      "{'loss': 1.3425, 'grad_norm': 1.0730841159820557, 'learning_rate': 3.8207171314741034e-05, 'num_tokens': 16178688.0, 'mean_token_accuracy': 0.6049510765075684, 'epoch': 1.2031678342978982}\n",
      "{'loss': 1.3426, 'grad_norm': 0.9887985587120056, 'learning_rate': 3.805393809377873e-05, 'num_tokens': 16383488.0, 'mean_token_accuracy': 0.6041878658533096, 'epoch': 1.2183978068839476}\n",
      "{'loss': 1.3403, 'grad_norm': 0.9380523562431335, 'learning_rate': 3.7900704872816426e-05, 'num_tokens': 16588288.0, 'mean_token_accuracy': 0.604770057797432, 'epoch': 1.233627779469997}\n",
      "{'loss': 1.3455, 'grad_norm': 1.0309900045394897, 'learning_rate': 3.7747471651854125e-05, 'num_tokens': 16793088.0, 'mean_token_accuracy': 0.6046281796693802, 'epoch': 1.2488577520560462}\n",
      "{'loss': 1.3399, 'grad_norm': 0.9667754173278809, 'learning_rate': 3.7594238430891824e-05, 'num_tokens': 16997888.0, 'mean_token_accuracy': 0.605450096130371, 'epoch': 1.2640877246420956}\n",
      "{'loss': 1.3503, 'grad_norm': 1.1124845743179321, 'learning_rate': 3.7441005209929516e-05, 'num_tokens': 17202688.0, 'mean_token_accuracy': 0.6028571403026581, 'epoch': 1.279317697228145}\n",
      "{'loss': 1.3611, 'grad_norm': 1.0711969137191772, 'learning_rate': 3.728777198896721e-05, 'num_tokens': 17407488.0, 'mean_token_accuracy': 0.5987524461746215, 'epoch': 1.2945476698141944}\n",
      "{'loss': 1.3597, 'grad_norm': 0.977543294429779, 'learning_rate': 3.713453876800491e-05, 'num_tokens': 17612288.0, 'mean_token_accuracy': 0.6010029369592667, 'epoch': 1.3097776424002436}\n",
      "{'loss': 1.3414, 'grad_norm': 1.0528922080993652, 'learning_rate': 3.69813055470426e-05, 'num_tokens': 17817088.0, 'mean_token_accuracy': 0.6049021530151367, 'epoch': 1.325007614986293}\n",
      "{'loss': 1.3474, 'grad_norm': 1.0541386604309082, 'learning_rate': 3.68280723260803e-05, 'num_tokens': 18021888.0, 'mean_token_accuracy': 0.6036986315250397, 'epoch': 1.3402375875723425}\n",
      "{'loss': 1.3406, 'grad_norm': 1.099609375, 'learning_rate': 3.667483910511799e-05, 'num_tokens': 18226688.0, 'mean_token_accuracy': 0.6044031316041947, 'epoch': 1.3554675601583916}\n",
      "{'loss': 1.3449, 'grad_norm': 1.0282105207443237, 'learning_rate': 3.6521605884155684e-05, 'num_tokens': 18431488.0, 'mean_token_accuracy': 0.6039970648288727, 'epoch': 1.370697532744441}\n",
      "{'loss': 1.3529, 'grad_norm': 1.0768108367919922, 'learning_rate': 3.636837266319338e-05, 'num_tokens': 18636288.0, 'mean_token_accuracy': 0.6007485324144364, 'epoch': 1.3859275053304905}\n",
      "{'loss': 1.3329, 'grad_norm': 1.0777857303619385, 'learning_rate': 3.6215139442231075e-05, 'num_tokens': 18841088.0, 'mean_token_accuracy': 0.6075391376018524, 'epoch': 1.4011574779165397}\n",
      "{'loss': 1.3465, 'grad_norm': 0.9775412678718567, 'learning_rate': 3.606190622126877e-05, 'num_tokens': 19045888.0, 'mean_token_accuracy': 0.6035469663143158, 'epoch': 1.416387450502589}\n",
      "{'loss': 1.3488, 'grad_norm': 1.0952415466308594, 'learning_rate': 3.590867300030647e-05, 'num_tokens': 19250688.0, 'mean_token_accuracy': 0.6033072376251221, 'epoch': 1.4316174230886385}\n",
      "{'loss': 1.3524, 'grad_norm': 1.060283899307251, 'learning_rate': 3.5755439779344166e-05, 'num_tokens': 19455488.0, 'mean_token_accuracy': 0.6022211325168609, 'epoch': 1.4468473956746877}\n",
      "{'loss': 1.3434, 'grad_norm': 0.9917829632759094, 'learning_rate': 3.560220655838186e-05, 'num_tokens': 19660288.0, 'mean_token_accuracy': 0.6034148758649827, 'epoch': 1.462077368260737}\n",
      "{'loss': 1.3454, 'grad_norm': 1.1292403936386108, 'learning_rate': 3.544897333741956e-05, 'num_tokens': 19865088.0, 'mean_token_accuracy': 0.6037084168195724, 'epoch': 1.4773073408467865}\n",
      "{'loss': 1.3416, 'grad_norm': 0.9632806181907654, 'learning_rate': 3.529574011645725e-05, 'num_tokens': 20069888.0, 'mean_token_accuracy': 0.605083172917366, 'epoch': 1.4925373134328357}\n",
      "{'loss': 1.3333, 'grad_norm': 1.061791181564331, 'learning_rate': 3.514250689549495e-05, 'num_tokens': 20274688.0, 'mean_token_accuracy': 0.607079256772995, 'epoch': 1.5077672860188853}\n",
      "{'loss': 1.3451, 'grad_norm': 1.0166213512420654, 'learning_rate': 3.498927367453264e-05, 'num_tokens': 20479488.0, 'mean_token_accuracy': 0.6055626213550568, 'epoch': 1.5229972586049345}\n",
      "{'loss': 1.3393, 'grad_norm': 1.0295071601867676, 'learning_rate': 3.4836040453570334e-05, 'num_tokens': 20684288.0, 'mean_token_accuracy': 0.6060763239860535, 'epoch': 1.5382272311909837}\n",
      "{'loss': 1.3235, 'grad_norm': 1.105339527130127, 'learning_rate': 3.468280723260803e-05, 'num_tokens': 20889088.0, 'mean_token_accuracy': 0.6107974565029144, 'epoch': 1.5534572037770333}\n",
      "{'loss': 1.3441, 'grad_norm': 1.1300077438354492, 'learning_rate': 3.4529574011645725e-05, 'num_tokens': 21093888.0, 'mean_token_accuracy': 0.6041976493597031, 'epoch': 1.5686871763630825}\n",
      "{'loss': 1.3354, 'grad_norm': 1.045556902885437, 'learning_rate': 3.437634079068342e-05, 'num_tokens': 21298688.0, 'mean_token_accuracy': 0.6077935439348221, 'epoch': 1.583917148949132}\n",
      "{'loss': 1.3401, 'grad_norm': 1.1886012554168701, 'learning_rate': 3.4223107569721116e-05, 'num_tokens': 21503488.0, 'mean_token_accuracy': 0.6056555783748627, 'epoch': 1.5991471215351813}\n",
      "{'loss': 1.3461, 'grad_norm': 1.0331056118011475, 'learning_rate': 3.4069874348758816e-05, 'num_tokens': 21708288.0, 'mean_token_accuracy': 0.6046771049499512, 'epoch': 1.6143770941212305}\n",
      "{'loss': 1.3324, 'grad_norm': 1.0446690320968628, 'learning_rate': 3.391664112779651e-05, 'num_tokens': 21913088.0, 'mean_token_accuracy': 0.6085225051641464, 'epoch': 1.62960706670728}\n",
      "{'loss': 1.3445, 'grad_norm': 1.0077015161514282, 'learning_rate': 3.376340790683421e-05, 'num_tokens': 22117888.0, 'mean_token_accuracy': 0.6048972582817078, 'epoch': 1.6448370392933294}\n",
      "{'loss': 1.3339, 'grad_norm': 1.0331826210021973, 'learning_rate': 3.36101746858719e-05, 'num_tokens': 22322688.0, 'mean_token_accuracy': 0.6063600778579712, 'epoch': 1.6600670118793786}\n",
      "{'loss': 1.3298, 'grad_norm': 1.004523754119873, 'learning_rate': 3.345694146490959e-05, 'num_tokens': 22527488.0, 'mean_token_accuracy': 0.6097945207357407, 'epoch': 1.675296984465428}\n",
      "{'loss': 1.3313, 'grad_norm': 1.0272142887115479, 'learning_rate': 3.330370824394729e-05, 'num_tokens': 22732288.0, 'mean_token_accuracy': 0.6084050852060318, 'epoch': 1.6905269570514774}\n",
      "{'loss': 1.3461, 'grad_norm': 1.0573838949203491, 'learning_rate': 3.315047502298498e-05, 'num_tokens': 22937088.0, 'mean_token_accuracy': 0.6046477484703064, 'epoch': 1.7057569296375266}\n",
      "{'loss': 1.3279, 'grad_norm': 1.074834942817688, 'learning_rate': 3.299724180202268e-05, 'num_tokens': 23141888.0, 'mean_token_accuracy': 0.6085958921909332, 'epoch': 1.720986902223576}\n",
      "{'loss': 1.3395, 'grad_norm': 1.0153899192810059, 'learning_rate': 3.2844008581060375e-05, 'num_tokens': 23346688.0, 'mean_token_accuracy': 0.6052935403585434, 'epoch': 1.7362168748096254}\n",
      "{'loss': 1.3401, 'grad_norm': 1.0096819400787354, 'learning_rate': 3.269077536009807e-05, 'num_tokens': 23551488.0, 'mean_token_accuracy': 0.6050929528474808, 'epoch': 1.7514468473956746}\n",
      "{'loss': 1.3378, 'grad_norm': 0.9868137836456299, 'learning_rate': 3.2537542139135766e-05, 'num_tokens': 23756288.0, 'mean_token_accuracy': 0.6055332672595978, 'epoch': 1.766676819981724}\n",
      "{'loss': 1.331, 'grad_norm': 1.076430320739746, 'learning_rate': 3.238430891817346e-05, 'num_tokens': 23961088.0, 'mean_token_accuracy': 0.6086399227380752, 'epoch': 1.7819067925677734}\n",
      "{'loss': 1.3418, 'grad_norm': 1.059901237487793, 'learning_rate': 3.223107569721116e-05, 'num_tokens': 24165888.0, 'mean_token_accuracy': 0.6049999994039535, 'epoch': 1.7971367651538226}\n",
      "{'loss': 1.3297, 'grad_norm': 1.0821462869644165, 'learning_rate': 3.207784247624886e-05, 'num_tokens': 24370688.0, 'mean_token_accuracy': 0.6087524443864822, 'epoch': 1.8123667377398722}\n",
      "{'loss': 1.3331, 'grad_norm': 1.042461633682251, 'learning_rate': 3.192460925528655e-05, 'num_tokens': 24575488.0, 'mean_token_accuracy': 0.6086937355995178, 'epoch': 1.8275967103259214}\n",
      "{'loss': 1.3475, 'grad_norm': 1.0819432735443115, 'learning_rate': 3.177137603432424e-05, 'num_tokens': 24780288.0, 'mean_token_accuracy': 0.6032827818393707, 'epoch': 1.8428266829119706}\n",
      "{'loss': 1.3205, 'grad_norm': 1.0907670259475708, 'learning_rate': 3.161814281336194e-05, 'num_tokens': 24985088.0, 'mean_token_accuracy': 0.6104354196786881, 'epoch': 1.8580566554980202}\n",
      "{'loss': 1.3361, 'grad_norm': 1.0789453983306885, 'learning_rate': 3.146490959239963e-05, 'num_tokens': 25189888.0, 'mean_token_accuracy': 0.6063551867008209, 'epoch': 1.8732866280840694}\n",
      "{'loss': 1.3158, 'grad_norm': 1.1538927555084229, 'learning_rate': 3.131167637143733e-05, 'num_tokens': 25394688.0, 'mean_token_accuracy': 0.6117710381746292, 'epoch': 1.8885166006701188}\n",
      "{'loss': 1.3355, 'grad_norm': 1.0629780292510986, 'learning_rate': 3.1158443150475024e-05, 'num_tokens': 25599488.0, 'mean_token_accuracy': 0.6070890420675278, 'epoch': 1.9037465732561683}\n",
      "{'loss': 1.333, 'grad_norm': 1.0813506841659546, 'learning_rate': 3.100520992951272e-05, 'num_tokens': 25804288.0, 'mean_token_accuracy': 0.6068101745843887, 'epoch': 1.9189765458422174}\n",
      "{'loss': 1.3324, 'grad_norm': 1.0869683027267456, 'learning_rate': 3.0851976708550416e-05, 'num_tokens': 26009088.0, 'mean_token_accuracy': 0.6070450103282928, 'epoch': 1.9342065184282669}\n",
      "{'loss': 1.3272, 'grad_norm': 0.9926477670669556, 'learning_rate': 3.069874348758811e-05, 'num_tokens': 26213888.0, 'mean_token_accuracy': 0.6078180009126664, 'epoch': 1.9494364910143163}\n",
      "{'loss': 1.3243, 'grad_norm': 1.0809487104415894, 'learning_rate': 3.054551026662581e-05, 'num_tokens': 26418688.0, 'mean_token_accuracy': 0.6090704500675201, 'epoch': 1.9646664636003655}\n",
      "{'loss': 1.3316, 'grad_norm': 1.0962835550308228, 'learning_rate': 3.0392277045663503e-05, 'num_tokens': 26623488.0, 'mean_token_accuracy': 0.6075146782398224, 'epoch': 1.9798964361864149}\n",
      "{'loss': 1.3182, 'grad_norm': 1.0629069805145264, 'learning_rate': 3.0239043824701195e-05, 'num_tokens': 26828288.0, 'mean_token_accuracy': 0.6099657523632049, 'epoch': 1.9951264087724643}\n",
      "{'loss': 1.3228, 'grad_norm': 1.0822569131851196, 'learning_rate': 3.008581060373889e-05, 'num_tokens': 27032576.0, 'mean_token_accuracy': 0.6093085461854935, 'epoch': 2.0103563813585135}\n",
      "{'loss': 1.3431, 'grad_norm': 1.1048389673233032, 'learning_rate': 2.993257738277659e-05, 'num_tokens': 27237376.0, 'mean_token_accuracy': 0.6055283731222153, 'epoch': 2.025586353944563}\n",
      "{'loss': 1.3404, 'grad_norm': 1.083400845527649, 'learning_rate': 2.9779344161814282e-05, 'num_tokens': 27442176.0, 'mean_token_accuracy': 0.6052690786123276, 'epoch': 2.0408163265306123}\n",
      "{'loss': 1.3187, 'grad_norm': 1.129886507987976, 'learning_rate': 2.9626110940851975e-05, 'num_tokens': 27646976.0, 'mean_token_accuracy': 0.6123776894807815, 'epoch': 2.0560462991166615}\n",
      "{'loss': 1.3231, 'grad_norm': 1.0256609916687012, 'learning_rate': 2.9472877719889674e-05, 'num_tokens': 27851776.0, 'mean_token_accuracy': 0.6103669291734696, 'epoch': 2.071276271702711}\n",
      "{'loss': 1.331, 'grad_norm': 1.082122802734375, 'learning_rate': 2.9319644498927366e-05, 'num_tokens': 28056576.0, 'mean_token_accuracy': 0.6084686875343323, 'epoch': 2.0865062442887603}\n",
      "{'loss': 1.3301, 'grad_norm': 1.0270472764968872, 'learning_rate': 2.9166411277965065e-05, 'num_tokens': 28261376.0, 'mean_token_accuracy': 0.6080577278137207, 'epoch': 2.1017362168748095}\n",
      "{'loss': 1.3258, 'grad_norm': 1.0715464353561401, 'learning_rate': 2.901317805700276e-05, 'num_tokens': 28466176.0, 'mean_token_accuracy': 0.6092025446891784, 'epoch': 2.116966189460859}\n",
      "{'loss': 1.3284, 'grad_norm': 1.1105201244354248, 'learning_rate': 2.8859944836040453e-05, 'num_tokens': 28670976.0, 'mean_token_accuracy': 0.6082142865657807, 'epoch': 2.1321961620469083}\n",
      "{'loss': 1.3228, 'grad_norm': 1.061959147453308, 'learning_rate': 2.8706711615078153e-05, 'num_tokens': 28875776.0, 'mean_token_accuracy': 0.6102886486053467, 'epoch': 2.1474261346329575}\n",
      "{'loss': 1.3276, 'grad_norm': 1.0842374563217163, 'learning_rate': 2.8553478394115845e-05, 'num_tokens': 29080576.0, 'mean_token_accuracy': 0.6085420745611191, 'epoch': 2.162656107219007}\n",
      "{'loss': 1.3138, 'grad_norm': 1.0708575248718262, 'learning_rate': 2.840024517315354e-05, 'num_tokens': 29285376.0, 'mean_token_accuracy': 0.6132093930244445, 'epoch': 2.1778860798050563}\n",
      "{'loss': 1.3218, 'grad_norm': 1.0619192123413086, 'learning_rate': 2.8247011952191236e-05, 'num_tokens': 29490176.0, 'mean_token_accuracy': 0.612040119767189, 'epoch': 2.1931160523911055}\n",
      "{'loss': 1.3053, 'grad_norm': 1.069643259048462, 'learning_rate': 2.8093778731228932e-05, 'num_tokens': 29694976.0, 'mean_token_accuracy': 0.6149070435762405, 'epoch': 2.208346024977155}\n",
      "{'loss': 1.3202, 'grad_norm': 1.055288314819336, 'learning_rate': 2.7940545510266624e-05, 'num_tokens': 29899776.0, 'mean_token_accuracy': 0.6100244611501694, 'epoch': 2.2235759975632043}\n",
      "{'loss': 1.3247, 'grad_norm': 1.0109089612960815, 'learning_rate': 2.7787312289304324e-05, 'num_tokens': 30104576.0, 'mean_token_accuracy': 0.6104305255413055, 'epoch': 2.2388059701492535}\n",
      "{'loss': 1.3232, 'grad_norm': 1.116199016571045, 'learning_rate': 2.7634079068342016e-05, 'num_tokens': 30309376.0, 'mean_token_accuracy': 0.6092123287916184, 'epoch': 2.254035942735303}\n",
      "{'loss': 1.3127, 'grad_norm': 1.0336053371429443, 'learning_rate': 2.7480845847379715e-05, 'num_tokens': 30514176.0, 'mean_token_accuracy': 0.6136643844842911, 'epoch': 2.2692659153213524}\n",
      "{'loss': 1.325, 'grad_norm': 1.113233208656311, 'learning_rate': 2.732761262641741e-05, 'num_tokens': 30718976.0, 'mean_token_accuracy': 0.6105773001909256, 'epoch': 2.2844958879074015}\n",
      "{'loss': 1.3015, 'grad_norm': 1.048796534538269, 'learning_rate': 2.7174379405455103e-05, 'num_tokens': 30923776.0, 'mean_token_accuracy': 0.6160078287124634, 'epoch': 2.299725860493451}\n",
      "{'loss': 1.3193, 'grad_norm': 1.035550832748413, 'learning_rate': 2.7021146184492802e-05, 'num_tokens': 31128576.0, 'mean_token_accuracy': 0.6119324851036072, 'epoch': 2.3149558330795004}\n",
      "{'loss': 1.3202, 'grad_norm': 1.0507148504257202, 'learning_rate': 2.6867912963530495e-05, 'num_tokens': 31333376.0, 'mean_token_accuracy': 0.6106360083818436, 'epoch': 2.3301858056655496}\n",
      "{'loss': 1.3264, 'grad_norm': 1.0780062675476074, 'learning_rate': 2.6714679742568187e-05, 'num_tokens': 31538176.0, 'mean_token_accuracy': 0.6086888462305069, 'epoch': 2.345415778251599}\n",
      "{'loss': 1.3257, 'grad_norm': 1.1276837587356567, 'learning_rate': 2.6561446521605886e-05, 'num_tokens': 31742976.0, 'mean_token_accuracy': 0.6095743608474732, 'epoch': 2.3606457508376484}\n",
      "{'loss': 1.327, 'grad_norm': 1.0321636199951172, 'learning_rate': 2.6408213300643582e-05, 'num_tokens': 31947776.0, 'mean_token_accuracy': 0.6090019595623016, 'epoch': 2.375875723423698}\n",
      "{'loss': 1.3337, 'grad_norm': 1.072283387184143, 'learning_rate': 2.6254980079681274e-05, 'num_tokens': 32152576.0, 'mean_token_accuracy': 0.6075097852945328, 'epoch': 2.391105696009747}\n",
      "{'loss': 1.322, 'grad_norm': 1.0816324949264526, 'learning_rate': 2.6101746858718973e-05, 'num_tokens': 32357376.0, 'mean_token_accuracy': 0.609774951338768, 'epoch': 2.4063356685957964}\n",
      "{'loss': 1.3163, 'grad_norm': 1.0552276372909546, 'learning_rate': 2.5948513637756666e-05, 'num_tokens': 32562176.0, 'mean_token_accuracy': 0.6119911932945251, 'epoch': 2.421565641181846}\n",
      "{'loss': 1.3303, 'grad_norm': 1.0822086334228516, 'learning_rate': 2.5795280416794358e-05, 'num_tokens': 32766976.0, 'mean_token_accuracy': 0.6102837550640107, 'epoch': 2.436795613767895}\n",
      "{'loss': 1.3107, 'grad_norm': 1.074007272720337, 'learning_rate': 2.5645111860251303e-05, 'num_tokens': 32971776.0, 'mean_token_accuracy': 0.6143052840232849, 'epoch': 2.4520255863539444}\n",
      "{'loss': 1.3253, 'grad_norm': 0.9923827052116394, 'learning_rate': 2.5491878639288995e-05, 'num_tokens': 33176576.0, 'mean_token_accuracy': 0.609628182053566, 'epoch': 2.467255558939994}\n",
      "{'loss': 1.3171, 'grad_norm': 1.0681276321411133, 'learning_rate': 2.5338645418326694e-05, 'num_tokens': 33381376.0, 'mean_token_accuracy': 0.611017609834671, 'epoch': 2.4824855315260432}\n",
      "{'loss': 1.3339, 'grad_norm': 1.0848780870437622, 'learning_rate': 2.518541219736439e-05, 'num_tokens': 33586176.0, 'mean_token_accuracy': 0.6072602742910385, 'epoch': 2.4977155041120924}\n",
      "{'loss': 1.3049, 'grad_norm': 1.0750490427017212, 'learning_rate': 2.503217897640209e-05, 'num_tokens': 33790976.0, 'mean_token_accuracy': 0.6156751424074173, 'epoch': 2.512945476698142}\n",
      "{'loss': 1.3399, 'grad_norm': 1.038360357284546, 'learning_rate': 2.487894575543978e-05, 'num_tokens': 33995776.0, 'mean_token_accuracy': 0.6057729971408844, 'epoch': 2.5281754492841912}\n",
      "{'loss': 1.3019, 'grad_norm': 1.0026525259017944, 'learning_rate': 2.4725712534477477e-05, 'num_tokens': 34200576.0, 'mean_token_accuracy': 0.6165802329778671, 'epoch': 2.543405421870241}\n",
      "{'loss': 1.325, 'grad_norm': 1.0729854106903076, 'learning_rate': 2.457247931351517e-05, 'num_tokens': 34405376.0, 'mean_token_accuracy': 0.6087573391199111, 'epoch': 2.55863539445629}\n",
      "{'loss': 1.3054, 'grad_norm': 1.0602225065231323, 'learning_rate': 2.4419246092552865e-05, 'num_tokens': 34610176.0, 'mean_token_accuracy': 0.6144226986169815, 'epoch': 2.5738653670423393}\n",
      "{'loss': 1.3119, 'grad_norm': 1.045861005783081, 'learning_rate': 2.4266012871590564e-05, 'num_tokens': 34814976.0, 'mean_token_accuracy': 0.6122994101047516, 'epoch': 2.589095339628389}\n",
      "{'loss': 1.3228, 'grad_norm': 1.0728687047958374, 'learning_rate': 2.4112779650628256e-05, 'num_tokens': 35019776.0, 'mean_token_accuracy': 0.6095450103282929, 'epoch': 2.604325312214438}\n",
      "{'loss': 1.3053, 'grad_norm': 1.1072169542312622, 'learning_rate': 2.3959546429665952e-05, 'num_tokens': 35224576.0, 'mean_token_accuracy': 0.6156849288940429, 'epoch': 2.6195552848004873}\n",
      "{'loss': 1.3174, 'grad_norm': 1.1703965663909912, 'learning_rate': 2.3806313208703648e-05, 'num_tokens': 35429376.0, 'mean_token_accuracy': 0.6125831711292267, 'epoch': 2.634785257386537}\n",
      "{'loss': 1.3189, 'grad_norm': 1.154742956161499, 'learning_rate': 2.3653079987741344e-05, 'num_tokens': 35634176.0, 'mean_token_accuracy': 0.6107338565587997, 'epoch': 2.650015229972586}\n",
      "{'loss': 1.3052, 'grad_norm': 1.1564916372299194, 'learning_rate': 2.349984676677904e-05, 'num_tokens': 35838976.0, 'mean_token_accuracy': 0.6147553813457489, 'epoch': 2.6652452025586353}\n",
      "{'loss': 1.3279, 'grad_norm': 1.0733722448349, 'learning_rate': 2.3346613545816735e-05, 'num_tokens': 36043776.0, 'mean_token_accuracy': 0.6081066513061524, 'epoch': 2.680475175144685}\n",
      "{'loss': 1.3215, 'grad_norm': 1.095598578453064, 'learning_rate': 2.319338032485443e-05, 'num_tokens': 36248576.0, 'mean_token_accuracy': 0.6102005863189697, 'epoch': 2.695705147730734}\n",
      "{'loss': 1.3163, 'grad_norm': 1.109056830406189, 'learning_rate': 2.3040147103892127e-05, 'num_tokens': 36453376.0, 'mean_token_accuracy': 0.6118444234132767, 'epoch': 2.7109351203167833}\n",
      "{'loss': 1.3124, 'grad_norm': 0.9705992341041565, 'learning_rate': 2.288691388292982e-05, 'num_tokens': 36658176.0, 'mean_token_accuracy': 0.613776907324791, 'epoch': 2.726165092902833}\n",
      "{'loss': 1.3089, 'grad_norm': 1.15104341506958, 'learning_rate': 2.2733680661967515e-05, 'num_tokens': 36862976.0, 'mean_token_accuracy': 0.612832680940628, 'epoch': 2.741395065488882}\n",
      "{'loss': 1.2974, 'grad_norm': 1.0752984285354614, 'learning_rate': 2.258044744100521e-05, 'num_tokens': 37067776.0, 'mean_token_accuracy': 0.6170205497741699, 'epoch': 2.7566250380749313}\n",
      "{'loss': 1.3032, 'grad_norm': 1.0741201639175415, 'learning_rate': 2.2427214220042906e-05, 'num_tokens': 37272576.0, 'mean_token_accuracy': 0.6158757323026657, 'epoch': 2.771855010660981}\n",
      "{'loss': 1.3141, 'grad_norm': 1.0886166095733643, 'learning_rate': 2.2273980999080602e-05, 'num_tokens': 37477376.0, 'mean_token_accuracy': 0.6140508794784546, 'epoch': 2.78708498324703}\n",
      "{'loss': 1.3148, 'grad_norm': 1.08316969871521, 'learning_rate': 2.2120747778118298e-05, 'num_tokens': 37682176.0, 'mean_token_accuracy': 0.6116242659091949, 'epoch': 2.8023149558330793}\n",
      "{'loss': 1.3128, 'grad_norm': 1.0822908878326416, 'learning_rate': 2.1967514557155993e-05, 'num_tokens': 37886976.0, 'mean_token_accuracy': 0.6128473597764968, 'epoch': 2.817544928419129}\n",
      "{'loss': 1.3249, 'grad_norm': 1.1047121286392212, 'learning_rate': 2.1814281336193686e-05, 'num_tokens': 38091776.0, 'mean_token_accuracy': 0.6088698625564575, 'epoch': 2.832774901005178}\n",
      "{'loss': 1.3065, 'grad_norm': 1.0316040515899658, 'learning_rate': 2.1661048115231385e-05, 'num_tokens': 38296576.0, 'mean_token_accuracy': 0.6155968689918518, 'epoch': 2.8480048735912273}\n",
      "{'loss': 1.3189, 'grad_norm': 1.2042317390441895, 'learning_rate': 2.150781489426908e-05, 'num_tokens': 38501376.0, 'mean_token_accuracy': 0.6108268094062805, 'epoch': 2.863234846177277}\n",
      "{'loss': 1.3152, 'grad_norm': 1.0687154531478882, 'learning_rate': 2.1354581673306773e-05, 'num_tokens': 38706176.0, 'mean_token_accuracy': 0.6130234825611115, 'epoch': 2.878464818763326}\n",
      "{'loss': 1.3002, 'grad_norm': 1.035685658454895, 'learning_rate': 2.120134845234447e-05, 'num_tokens': 38910976.0, 'mean_token_accuracy': 0.61665851354599, 'epoch': 2.8936947913493754}\n",
      "{'loss': 1.3244, 'grad_norm': 1.098608374595642, 'learning_rate': 2.1048115231382164e-05, 'num_tokens': 39115776.0, 'mean_token_accuracy': 0.610655574798584, 'epoch': 2.908924763935425}\n",
      "{'loss': 1.3115, 'grad_norm': 1.0831069946289062, 'learning_rate': 2.089488201041986e-05, 'num_tokens': 39320576.0, 'mean_token_accuracy': 0.6139481431245803, 'epoch': 2.924154736521474}\n",
      "{'loss': 1.3108, 'grad_norm': 1.0598031282424927, 'learning_rate': 2.0741648789457556e-05, 'num_tokens': 39525376.0, 'mean_token_accuracy': 0.6122504889965057, 'epoch': 2.9393847091075234}\n",
      "{'loss': 1.3209, 'grad_norm': 1.0374468564987183, 'learning_rate': 2.058841556849525e-05, 'num_tokens': 39730176.0, 'mean_token_accuracy': 0.6107142829895019, 'epoch': 2.954614681693573}\n",
      "{'loss': 1.3259, 'grad_norm': 1.046335220336914, 'learning_rate': 2.0435182347532947e-05, 'num_tokens': 39934976.0, 'mean_token_accuracy': 0.6098581206798553, 'epoch': 2.969844654279622}\n",
      "{'loss': 1.3019, 'grad_norm': 1.0043277740478516, 'learning_rate': 2.028194912657064e-05, 'num_tokens': 40139776.0, 'mean_token_accuracy': 0.616399217247963, 'epoch': 2.9850746268656714}\n",
      "{'loss': 1.3257, 'grad_norm': 1.066825032234192, 'learning_rate': 2.0128715905608335e-05, 'num_tokens': 40344064.0, 'mean_token_accuracy': 0.6114416188001632, 'epoch': 3.000304599451721}\n",
      "{'loss': 1.3095, 'grad_norm': 1.1457916498184204, 'learning_rate': 1.997548268464603e-05, 'num_tokens': 40548864.0, 'mean_token_accuracy': 0.6149412924051285, 'epoch': 3.01553457203777}\n",
      "{'loss': 1.3071, 'grad_norm': 1.0288865566253662, 'learning_rate': 1.982224946368373e-05, 'num_tokens': 40753664.0, 'mean_token_accuracy': 0.6144031316041947, 'epoch': 3.03076454462382}\n",
      "{'loss': 1.3084, 'grad_norm': 1.1572728157043457, 'learning_rate': 1.9669016242721423e-05, 'num_tokens': 40958464.0, 'mean_token_accuracy': 0.614305282831192, 'epoch': 3.045994517209869}\n",
      "{'loss': 1.3074, 'grad_norm': 1.0486481189727783, 'learning_rate': 1.9515783021759118e-05, 'num_tokens': 41163264.0, 'mean_token_accuracy': 0.6139823889732361, 'epoch': 3.061224489795918}\n",
      "{'loss': 1.3039, 'grad_norm': 1.063780426979065, 'learning_rate': 1.9362549800796814e-05, 'num_tokens': 41368064.0, 'mean_token_accuracy': 0.6161399209499359, 'epoch': 3.076454462381968}\n",
      "{'loss': 1.3116, 'grad_norm': 1.0913420915603638, 'learning_rate': 1.9212381244253755e-05, 'num_tokens': 41572864.0, 'mean_token_accuracy': 0.6134931486845017, 'epoch': 3.091684434968017}\n",
      "{'loss': 1.3077, 'grad_norm': 1.0431381464004517, 'learning_rate': 1.905914802329145e-05, 'num_tokens': 41777664.0, 'mean_token_accuracy': 0.6137279862165451, 'epoch': 3.1069144075540662}\n",
      "{'loss': 1.2979, 'grad_norm': 1.1211587190628052, 'learning_rate': 1.8905914802329147e-05, 'num_tokens': 41982464.0, 'mean_token_accuracy': 0.6171722137928009, 'epoch': 3.122144380140116}\n",
      "{'loss': 1.3204, 'grad_norm': 1.0436493158340454, 'learning_rate': 1.875268158136684e-05, 'num_tokens': 42187264.0, 'mean_token_accuracy': 0.6114236831665039, 'epoch': 3.137374352726165}\n",
      "{'loss': 1.3078, 'grad_norm': 1.0221863985061646, 'learning_rate': 1.8599448360404538e-05, 'num_tokens': 42392064.0, 'mean_token_accuracy': 0.6141878640651703, 'epoch': 3.1526043253122142}\n",
      "{'loss': 1.3134, 'grad_norm': 1.0997843742370605, 'learning_rate': 1.8446215139442234e-05, 'num_tokens': 42596864.0, 'mean_token_accuracy': 0.6127103722095489, 'epoch': 3.167834297898264}\n",
      "{'loss': 1.3132, 'grad_norm': 1.1490271091461182, 'learning_rate': 1.8292981918479926e-05, 'num_tokens': 42801664.0, 'mean_token_accuracy': 0.6118444263935089, 'epoch': 3.183064270484313}\n",
      "{'loss': 1.3059, 'grad_norm': 1.123502492904663, 'learning_rate': 1.8139748697517622e-05, 'num_tokens': 43006464.0, 'mean_token_accuracy': 0.6149070477485656, 'epoch': 3.1982942430703627}\n",
      "{'loss': 1.3133, 'grad_norm': 1.0214815139770508, 'learning_rate': 1.7986515476555318e-05, 'num_tokens': 43211264.0, 'mean_token_accuracy': 0.6140459871292114, 'epoch': 3.213524215656412}\n",
      "{'loss': 1.2894, 'grad_norm': 1.07010018825531, 'learning_rate': 1.7833282255593013e-05, 'num_tokens': 43416064.0, 'mean_token_accuracy': 0.6195841479301453, 'epoch': 3.228754188242461}\n",
      "{'loss': 1.3187, 'grad_norm': 1.0219948291778564, 'learning_rate': 1.768004903463071e-05, 'num_tokens': 43620864.0, 'mean_token_accuracy': 0.610753425359726, 'epoch': 3.2439841608285107}\n",
      "{'loss': 1.3203, 'grad_norm': 1.1692652702331543, 'learning_rate': 1.7526815813668405e-05, 'num_tokens': 43825664.0, 'mean_token_accuracy': 0.6114041119813919, 'epoch': 3.25921413341456}\n",
      "{'loss': 1.3297, 'grad_norm': 1.049857497215271, 'learning_rate': 1.73735825927061e-05, 'num_tokens': 44030464.0, 'mean_token_accuracy': 0.6089530324935913, 'epoch': 3.274444106000609}\n",
      "{'loss': 1.3032, 'grad_norm': 1.1207722425460815, 'learning_rate': 1.7220349371743793e-05, 'num_tokens': 44235264.0, 'mean_token_accuracy': 0.6148825800418853, 'epoch': 3.2896740785866587}\n",
      "{'loss': 1.3049, 'grad_norm': 0.9981434941291809, 'learning_rate': 1.706711615078149e-05, 'num_tokens': 44440064.0, 'mean_token_accuracy': 0.6153228950500488, 'epoch': 3.304904051172708}\n",
      "{'loss': 1.3106, 'grad_norm': 1.0482491254806519, 'learning_rate': 1.6913882929819184e-05, 'num_tokens': 44644864.0, 'mean_token_accuracy': 0.6143884545564652, 'epoch': 3.320134023758757}\n",
      "{'loss': 1.3124, 'grad_norm': 1.0463733673095703, 'learning_rate': 1.6760649708856884e-05, 'num_tokens': 44849664.0, 'mean_token_accuracy': 0.6132191789150238, 'epoch': 3.3353639963448067}\n",
      "{'loss': 1.2966, 'grad_norm': 1.1126700639724731, 'learning_rate': 1.6607416487894576e-05, 'num_tokens': 45054464.0, 'mean_token_accuracy': 0.6181702542304993, 'epoch': 3.350593968930856}\n",
      "{'loss': 1.3074, 'grad_norm': 1.1340242624282837, 'learning_rate': 1.645418326693227e-05, 'num_tokens': 45259264.0, 'mean_token_accuracy': 0.6148923665285111, 'epoch': 3.365823941516905}\n",
      "{'loss': 1.3035, 'grad_norm': 1.0013713836669922, 'learning_rate': 1.6300950045969967e-05, 'num_tokens': 45464064.0, 'mean_token_accuracy': 0.6158121335506439, 'epoch': 3.3810539141029547}\n",
      "{'loss': 1.3074, 'grad_norm': 1.0828399658203125, 'learning_rate': 1.6147716825007663e-05, 'num_tokens': 45668864.0, 'mean_token_accuracy': 0.6139481401443482, 'epoch': 3.396283886689004}\n",
      "{'loss': 1.3012, 'grad_norm': 1.0712074041366577, 'learning_rate': 1.599448360404536e-05, 'num_tokens': 45873664.0, 'mean_token_accuracy': 0.6159540104866028, 'epoch': 3.411513859275053}\n",
      "{'loss': 1.2943, 'grad_norm': 1.142330527305603, 'learning_rate': 1.5841250383083055e-05, 'num_tokens': 46078464.0, 'mean_token_accuracy': 0.6180430519580841, 'epoch': 3.4267438318611028}\n",
      "{'loss': 1.3151, 'grad_norm': 1.1265150308609009, 'learning_rate': 1.568801716212075e-05, 'num_tokens': 46283264.0, 'mean_token_accuracy': 0.6105479496717453, 'epoch': 3.441973804447152}\n",
      "{'loss': 1.2967, 'grad_norm': 1.0195647478103638, 'learning_rate': 1.5534783941158443e-05, 'num_tokens': 46488064.0, 'mean_token_accuracy': 0.6166095894575119, 'epoch': 3.457203777033201}\n",
      "{'loss': 1.2965, 'grad_norm': 1.1573469638824463, 'learning_rate': 1.538155072019614e-05, 'num_tokens': 46692864.0, 'mean_token_accuracy': 0.6175146758556366, 'epoch': 3.4724337496192508}\n",
      "{'loss': 1.3214, 'grad_norm': 1.02494215965271, 'learning_rate': 1.5228317499233836e-05, 'num_tokens': 46897664.0, 'mean_token_accuracy': 0.6112181979417801, 'epoch': 3.4876637222053}\n",
      "{'loss': 1.3006, 'grad_norm': 1.04427969455719, 'learning_rate': 1.5075084278271531e-05, 'num_tokens': 47102464.0, 'mean_token_accuracy': 0.6158463805913925, 'epoch': 3.502893694791349}\n",
      "{'loss': 1.3014, 'grad_norm': 1.1461793184280396, 'learning_rate': 1.4921851057309224e-05, 'num_tokens': 47307264.0, 'mean_token_accuracy': 0.6177495115995407, 'epoch': 3.518123667377399}\n",
      "{'loss': 1.303, 'grad_norm': 1.114047884941101, 'learning_rate': 1.4768617836346921e-05, 'num_tokens': 47512064.0, 'mean_token_accuracy': 0.6164285731315613, 'epoch': 3.533353639963448}\n",
      "{'loss': 1.3008, 'grad_norm': 1.0843573808670044, 'learning_rate': 1.4615384615384617e-05, 'num_tokens': 47716864.0, 'mean_token_accuracy': 0.6165802365541458, 'epoch': 3.548583612549497}\n",
      "{'loss': 1.297, 'grad_norm': 1.128089427947998, 'learning_rate': 1.4462151394422311e-05, 'num_tokens': 47921664.0, 'mean_token_accuracy': 0.6174902141094207, 'epoch': 3.563813585135547}\n",
      "{'loss': 1.2998, 'grad_norm': 1.0510001182556152, 'learning_rate': 1.4308918173460007e-05, 'num_tokens': 48126464.0, 'mean_token_accuracy': 0.6175636011362076, 'epoch': 3.579043557721596}\n",
      "{'loss': 1.3154, 'grad_norm': 1.0992368459701538, 'learning_rate': 1.4155684952497702e-05, 'num_tokens': 48331264.0, 'mean_token_accuracy': 0.6124853247404098, 'epoch': 3.594273530307645}\n",
      "{'loss': 1.3037, 'grad_norm': 1.162412166595459, 'learning_rate': 1.4002451731535398e-05, 'num_tokens': 48536064.0, 'mean_token_accuracy': 0.614476518034935, 'epoch': 3.609503502893695}\n",
      "{'loss': 1.2959, 'grad_norm': 1.08678138256073, 'learning_rate': 1.3849218510573092e-05, 'num_tokens': 48740864.0, 'mean_token_accuracy': 0.6179452061653137, 'epoch': 3.624733475479744}\n",
      "{'loss': 1.3124, 'grad_norm': 1.038557529449463, 'learning_rate': 1.3695985289610788e-05, 'num_tokens': 48945664.0, 'mean_token_accuracy': 0.6122309195995331, 'epoch': 3.6399634480657936}\n",
      "{'loss': 1.3097, 'grad_norm': 1.0640971660614014, 'learning_rate': 1.3542752068648484e-05, 'num_tokens': 49150464.0, 'mean_token_accuracy': 0.6140851247310638, 'epoch': 3.655193420651843}\n",
      "{'loss': 1.3112, 'grad_norm': 1.1230305433273315, 'learning_rate': 1.3389518847686178e-05, 'num_tokens': 49355264.0, 'mean_token_accuracy': 0.6138845425844193, 'epoch': 3.670423393237892}\n",
      "{'loss': 1.2999, 'grad_norm': 1.14659583568573, 'learning_rate': 1.3236285626723873e-05, 'num_tokens': 49560064.0, 'mean_token_accuracy': 0.6164236772060394, 'epoch': 3.6856533658239417}\n",
      "{'loss': 1.2958, 'grad_norm': 1.0103483200073242, 'learning_rate': 1.3086117070180815e-05, 'num_tokens': 49764864.0, 'mean_token_accuracy': 0.6185861027240753, 'epoch': 3.700883338409991}\n",
      "{'loss': 1.3071, 'grad_norm': 1.0874948501586914, 'learning_rate': 1.293288384921851e-05, 'num_tokens': 49969664.0, 'mean_token_accuracy': 0.6147113513946533, 'epoch': 3.7161133109960405}\n",
      "{'loss': 1.3143, 'grad_norm': 1.070692777633667, 'learning_rate': 1.2779650628256206e-05, 'num_tokens': 50174464.0, 'mean_token_accuracy': 0.6118297457695008, 'epoch': 3.7313432835820897}\n",
      "{'loss': 1.3028, 'grad_norm': 1.0623482465744019, 'learning_rate': 1.2626417407293904e-05, 'num_tokens': 50379264.0, 'mean_token_accuracy': 0.6159540104866028, 'epoch': 3.746573256168139}\n",
      "{'loss': 1.308, 'grad_norm': 1.011252999305725, 'learning_rate': 1.2473184186331598e-05, 'num_tokens': 50584064.0, 'mean_token_accuracy': 0.615327787399292, 'epoch': 3.7618032287541885}\n",
      "{'loss': 1.2976, 'grad_norm': 1.0583709478378296, 'learning_rate': 1.2319950965369292e-05, 'num_tokens': 50788864.0, 'mean_token_accuracy': 0.6167857140302658, 'epoch': 3.7770332013402377}\n",
      "{'loss': 1.2991, 'grad_norm': 1.2172731161117554, 'learning_rate': 1.2166717744406989e-05, 'num_tokens': 50993664.0, 'mean_token_accuracy': 0.6183316993713379, 'epoch': 3.792263173926287}\n",
      "{'loss': 1.2932, 'grad_norm': 1.1244490146636963, 'learning_rate': 1.2013484523444683e-05, 'num_tokens': 51198464.0, 'mean_token_accuracy': 0.6180577301979064, 'epoch': 3.8074931465123365}\n",
      "{'loss': 1.3119, 'grad_norm': 1.0297423601150513, 'learning_rate': 1.1860251302482379e-05, 'num_tokens': 51403264.0, 'mean_token_accuracy': 0.6131996083259582, 'epoch': 3.8227231190983857}\n",
      "{'loss': 1.3084, 'grad_norm': 1.062118649482727, 'learning_rate': 1.1707018081520075e-05, 'num_tokens': 51608064.0, 'mean_token_accuracy': 0.6151565539836884, 'epoch': 3.837953091684435}\n",
      "{'loss': 1.2973, 'grad_norm': 1.1374245882034302, 'learning_rate': 1.1553784860557769e-05, 'num_tokens': 51812864.0, 'mean_token_accuracy': 0.6179207438230514, 'epoch': 3.8531830642704845}\n",
      "{'loss': 1.3062, 'grad_norm': 1.043331503868103, 'learning_rate': 1.1400551639595464e-05, 'num_tokens': 52017664.0, 'mean_token_accuracy': 0.6151272004842758, 'epoch': 3.8684130368565337}\n",
      "{'loss': 1.2759, 'grad_norm': 1.130342721939087, 'learning_rate': 1.124731841863316e-05, 'num_tokens': 52222464.0, 'mean_token_accuracy': 0.623165363073349, 'epoch': 3.883643009442583}\n",
      "{'loss': 1.3121, 'grad_norm': 1.061273455619812, 'learning_rate': 1.1094085197670856e-05, 'num_tokens': 52427264.0, 'mean_token_accuracy': 0.6149902147054672, 'epoch': 3.8988729820286325}\n",
      "{'loss': 1.3015, 'grad_norm': 1.1653289794921875, 'learning_rate': 1.0940851976708552e-05, 'num_tokens': 52632064.0, 'mean_token_accuracy': 0.6159050869941711, 'epoch': 3.9141029546146817}\n",
      "{'loss': 1.3109, 'grad_norm': 1.0565265417099, 'learning_rate': 1.0787618755746247e-05, 'num_tokens': 52836864.0, 'mean_token_accuracy': 0.6135029357671737, 'epoch': 3.929332927200731}\n",
      "{'loss': 1.309, 'grad_norm': 1.0602816343307495, 'learning_rate': 1.0634385534783941e-05, 'num_tokens': 53041664.0, 'mean_token_accuracy': 0.6134491211175919, 'epoch': 3.9445628997867805}\n",
      "{'loss': 1.2996, 'grad_norm': 1.0633882284164429, 'learning_rate': 1.0481152313821637e-05, 'num_tokens': 53246464.0, 'mean_token_accuracy': 0.6167954975366592, 'epoch': 3.9597928723728297}\n",
      "{'loss': 1.2983, 'grad_norm': 1.1579724550247192, 'learning_rate': 1.0327919092859333e-05, 'num_tokens': 53451264.0, 'mean_token_accuracy': 0.6173385542631149, 'epoch': 3.975022844958879}\n",
      "{'loss': 1.3177, 'grad_norm': 1.0904101133346558, 'learning_rate': 1.0174685871897027e-05, 'num_tokens': 53656064.0, 'mean_token_accuracy': 0.6120303332805633, 'epoch': 3.9902528175449286}\n",
      "{'loss': 1.2951, 'grad_norm': 1.0435295104980469, 'learning_rate': 1.0021452650934724e-05, 'num_tokens': 53860352.0, 'mean_token_accuracy': 0.6185616439580918, 'epoch': 4.005482790130978}\n",
      "{'loss': 1.2873, 'grad_norm': 1.1047556400299072, 'learning_rate': 9.868219429972418e-06, 'num_tokens': 54065152.0, 'mean_token_accuracy': 0.6198776870965957, 'epoch': 4.020712762717027}\n",
      "{'loss': 1.2939, 'grad_norm': 1.0934369564056396, 'learning_rate': 9.714986209010114e-06, 'num_tokens': 54269952.0, 'mean_token_accuracy': 0.6189970648288727, 'epoch': 4.035942735303077}\n",
      "{'loss': 1.3075, 'grad_norm': 1.1101449728012085, 'learning_rate': 9.56175298804781e-06, 'num_tokens': 54474752.0, 'mean_token_accuracy': 0.6147553843259811, 'epoch': 4.051172707889126}\n",
      "{'loss': 1.3003, 'grad_norm': 1.096150517463684, 'learning_rate': 9.408519767085505e-06, 'num_tokens': 54679552.0, 'mean_token_accuracy': 0.6169960850477219, 'epoch': 4.066402680475175}\n",
      "{'loss': 1.3046, 'grad_norm': 1.167616844177246, 'learning_rate': 9.2552865461232e-06, 'num_tokens': 54884352.0, 'mean_token_accuracy': 0.6161007827520371, 'epoch': 4.081632653061225}\n",
      "{'loss': 1.2891, 'grad_norm': 1.0886614322662354, 'learning_rate': 9.102053325160895e-06, 'num_tokens': 55089152.0, 'mean_token_accuracy': 0.6196966743469239, 'epoch': 4.096862625647274}\n",
      "{'loss': 1.3146, 'grad_norm': 1.0558398962020874, 'learning_rate': 8.948820104198591e-06, 'num_tokens': 55293952.0, 'mean_token_accuracy': 0.611883562207222, 'epoch': 4.112092598233323}\n",
      "{'loss': 1.3031, 'grad_norm': 1.1254451274871826, 'learning_rate': 8.795586883236285e-06, 'num_tokens': 55498752.0, 'mean_token_accuracy': 0.6152348345518113, 'epoch': 4.127322570819373}\n",
      "{'loss': 1.302, 'grad_norm': 1.1129189729690552, 'learning_rate': 8.642353662273982e-06, 'num_tokens': 55703552.0, 'mean_token_accuracy': 0.615753424167633, 'epoch': 4.142552543405422}\n",
      "{'loss': 1.2955, 'grad_norm': 1.0849368572235107, 'learning_rate': 8.489120441311676e-06, 'num_tokens': 55908352.0, 'mean_token_accuracy': 0.6179598838090896, 'epoch': 4.157782515991471}\n",
      "{'loss': 1.2965, 'grad_norm': 1.0749680995941162, 'learning_rate': 8.335887220349372e-06, 'num_tokens': 56113152.0, 'mean_token_accuracy': 0.6162475544214249, 'epoch': 4.173012488577521}\n",
      "{'loss': 1.305, 'grad_norm': 1.071007251739502, 'learning_rate': 8.182653999387068e-06, 'num_tokens': 56317952.0, 'mean_token_accuracy': 0.6137377697229386, 'epoch': 4.18824246116357}\n",
      "{'loss': 1.2999, 'grad_norm': 1.1203477382659912, 'learning_rate': 8.029420778424764e-06, 'num_tokens': 56522752.0, 'mean_token_accuracy': 0.6175244587659836, 'epoch': 4.203472433749619}\n",
      "{'loss': 1.3097, 'grad_norm': 1.1244467496871948, 'learning_rate': 7.876187557462458e-06, 'num_tokens': 56727552.0, 'mean_token_accuracy': 0.6143835580348969, 'epoch': 4.218702406335669}\n",
      "{'loss': 1.3235, 'grad_norm': 1.181312918663025, 'learning_rate': 7.722954336500153e-06, 'num_tokens': 56932352.0, 'mean_token_accuracy': 0.611095894575119, 'epoch': 4.233932378921718}\n",
      "{'loss': 1.3102, 'grad_norm': 1.0720539093017578, 'learning_rate': 7.569721115537849e-06, 'num_tokens': 57137152.0, 'mean_token_accuracy': 0.6148874765634537, 'epoch': 4.249162351507767}\n",
      "{'loss': 1.2928, 'grad_norm': 1.093827486038208, 'learning_rate': 7.416487894575544e-06, 'num_tokens': 57341952.0, 'mean_token_accuracy': 0.6185714286565781, 'epoch': 4.264392324093817}\n",
      "{'loss': 1.3055, 'grad_norm': 1.1017882823944092, 'learning_rate': 7.26325467361324e-06, 'num_tokens': 57546752.0, 'mean_token_accuracy': 0.6146673196554184, 'epoch': 4.279622296679866}\n",
      "{'loss': 1.3002, 'grad_norm': 1.093923807144165, 'learning_rate': 7.110021452650935e-06, 'num_tokens': 57751552.0, 'mean_token_accuracy': 0.6155870848894119, 'epoch': 4.294852269265915}\n",
      "{'loss': 1.2845, 'grad_norm': 1.1129188537597656, 'learning_rate': 6.959852896107877e-06, 'num_tokens': 57956352.0, 'mean_token_accuracy': 0.6199021524190903, 'epoch': 4.310082241851965}\n",
      "{'loss': 1.3, 'grad_norm': 1.0923198461532593, 'learning_rate': 6.806619675145572e-06, 'num_tokens': 58161152.0, 'mean_token_accuracy': 0.6156604671478272, 'epoch': 4.325312214438014}\n",
      "{'loss': 1.306, 'grad_norm': 1.0599220991134644, 'learning_rate': 6.653386454183267e-06, 'num_tokens': 58365952.0, 'mean_token_accuracy': 0.6162133061885834, 'epoch': 4.340542187024063}\n",
      "{'loss': 1.3053, 'grad_norm': 1.1099783182144165, 'learning_rate': 6.500153233220962e-06, 'num_tokens': 58570752.0, 'mean_token_accuracy': 0.6151908034086228, 'epoch': 4.355772159610113}\n",
      "{'loss': 1.3118, 'grad_norm': 1.0783222913742065, 'learning_rate': 6.346920012258659e-06, 'num_tokens': 58775552.0, 'mean_token_accuracy': 0.613586100935936, 'epoch': 4.371002132196162}\n",
      "{'loss': 1.304, 'grad_norm': 1.1035207509994507, 'learning_rate': 6.193686791296354e-06, 'num_tokens': 58980352.0, 'mean_token_accuracy': 0.6143835586309433, 'epoch': 4.386232104782211}\n",
      "{'loss': 1.2987, 'grad_norm': 1.0770847797393799, 'learning_rate': 6.0404535703340486e-06, 'num_tokens': 59185152.0, 'mean_token_accuracy': 0.6182142877578736, 'epoch': 4.401462077368261}\n",
      "{'loss': 1.2908, 'grad_norm': 1.0955970287322998, 'learning_rate': 5.887220349371744e-06, 'num_tokens': 59389952.0, 'mean_token_accuracy': 0.6184099805355072, 'epoch': 4.41669204995431}\n",
      "{'loss': 1.3066, 'grad_norm': 1.0823390483856201, 'learning_rate': 5.73398712840944e-06, 'num_tokens': 59594752.0, 'mean_token_accuracy': 0.6148434436321258, 'epoch': 4.431922022540359}\n",
      "{'loss': 1.3109, 'grad_norm': 1.0905741453170776, 'learning_rate': 5.580753907447134e-06, 'num_tokens': 59799552.0, 'mean_token_accuracy': 0.6136692750453949, 'epoch': 4.447151995126409}\n",
      "{'loss': 1.3064, 'grad_norm': 1.109176754951477, 'learning_rate': 5.42752068648483e-06, 'num_tokens': 60004352.0, 'mean_token_accuracy': 0.6153033268451691, 'epoch': 4.462381967712458}\n",
      "{'loss': 1.3023, 'grad_norm': 1.166966199874878, 'learning_rate': 5.2742874655225255e-06, 'num_tokens': 60209152.0, 'mean_token_accuracy': 0.6162182027101517, 'epoch': 4.477611940298507}\n",
      "{'loss': 1.3024, 'grad_norm': 1.0740751028060913, 'learning_rate': 5.12105424456022e-06, 'num_tokens': 60413952.0, 'mean_token_accuracy': 0.6151614475250244, 'epoch': 4.492841912884557}\n",
      "{'loss': 1.2875, 'grad_norm': 1.0686390399932861, 'learning_rate': 4.967821023597916e-06, 'num_tokens': 60618752.0, 'mean_token_accuracy': 0.620132092833519, 'epoch': 4.508071885470606}\n",
      "{'loss': 1.285, 'grad_norm': 1.1140984296798706, 'learning_rate': 4.814587802635612e-06, 'num_tokens': 60823552.0, 'mean_token_accuracy': 0.6209784752130508, 'epoch': 4.523301858056655}\n",
      "{'loss': 1.2974, 'grad_norm': 1.0450575351715088, 'learning_rate': 4.661354581673307e-06, 'num_tokens': 61028352.0, 'mean_token_accuracy': 0.6170058691501618, 'epoch': 4.538531830642705}\n",
      "{'loss': 1.2907, 'grad_norm': 1.1123076677322388, 'learning_rate': 4.5081213607110025e-06, 'num_tokens': 61233152.0, 'mean_token_accuracy': 0.6196477538347245, 'epoch': 4.553761803228754}\n",
      "{'loss': 1.3063, 'grad_norm': 1.1338540315628052, 'learning_rate': 4.354888139748698e-06, 'num_tokens': 61437952.0, 'mean_token_accuracy': 0.6158121359348298, 'epoch': 4.568991775814803}\n",
      "{'loss': 1.2923, 'grad_norm': 1.0995737314224243, 'learning_rate': 4.201654918786393e-06, 'num_tokens': 61642752.0, 'mean_token_accuracy': 0.6191634047031402, 'epoch': 4.584221748400853}\n",
      "{'loss': 1.2915, 'grad_norm': 1.0803234577178955, 'learning_rate': 4.048421697824088e-06, 'num_tokens': 61847552.0, 'mean_token_accuracy': 0.6193346357345582, 'epoch': 4.599451720986902}\n",
      "{'loss': 1.3174, 'grad_norm': 1.0719863176345825, 'learning_rate': 3.895188476861784e-06, 'num_tokens': 62052352.0, 'mean_token_accuracy': 0.6103620326519013, 'epoch': 4.614681693572951}\n",
      "{'loss': 1.3049, 'grad_norm': 1.1296530961990356, 'learning_rate': 3.741955255899479e-06, 'num_tokens': 62257152.0, 'mean_token_accuracy': 0.6141487288475037, 'epoch': 4.629911666159001}\n",
      "{'loss': 1.2945, 'grad_norm': 1.1504788398742676, 'learning_rate': 3.5887220349371748e-06, 'num_tokens': 62461952.0, 'mean_token_accuracy': 0.6180968707799912, 'epoch': 4.64514163874505}\n",
      "{'loss': 1.2844, 'grad_norm': 1.0747252702713013, 'learning_rate': 3.43548881397487e-06, 'num_tokens': 62666752.0, 'mean_token_accuracy': 0.6216291576623917, 'epoch': 4.660371611331099}\n",
      "{'loss': 1.2984, 'grad_norm': 1.117295265197754, 'learning_rate': 3.2822555930125654e-06, 'num_tokens': 62871552.0, 'mean_token_accuracy': 0.6167563611268997, 'epoch': 4.675601583917149}\n",
      "{'loss': 1.2962, 'grad_norm': 1.112883448600769, 'learning_rate': 3.129022372050261e-06, 'num_tokens': 63076352.0, 'mean_token_accuracy': 0.6192465722560883, 'epoch': 4.690831556503198}\n",
      "{'loss': 1.2944, 'grad_norm': 1.1500682830810547, 'learning_rate': 2.975789151087956e-06, 'num_tokens': 63281152.0, 'mean_token_accuracy': 0.6173287653923034, 'epoch': 4.706061529089248}\n",
      "{'loss': 1.2845, 'grad_norm': 1.1396108865737915, 'learning_rate': 2.8225559301256513e-06, 'num_tokens': 63485952.0, 'mean_token_accuracy': 0.6214138960838318, 'epoch': 4.721291501675297}\n",
      "{'loss': 1.3007, 'grad_norm': 1.0998038053512573, 'learning_rate': 2.6693227091633466e-06, 'num_tokens': 63690752.0, 'mean_token_accuracy': 0.6162182003259659, 'epoch': 4.736521474261346}\n",
      "{'loss': 1.3104, 'grad_norm': 1.1089991331100464, 'learning_rate': 2.516089488201042e-06, 'num_tokens': 63895552.0, 'mean_token_accuracy': 0.614593933224678, 'epoch': 4.751751446847396}\n",
      "{'loss': 1.3043, 'grad_norm': 1.0377674102783203, 'learning_rate': 2.3628562672387376e-06, 'num_tokens': 64100352.0, 'mean_token_accuracy': 0.6152739739418029, 'epoch': 4.766981419433445}\n",
      "{'loss': 1.3082, 'grad_norm': 1.07327139377594, 'learning_rate': 2.209623046276433e-06, 'num_tokens': 64305152.0, 'mean_token_accuracy': 0.6145645773410797, 'epoch': 4.782211392019494}\n",
      "{'loss': 1.2925, 'grad_norm': 1.0999581813812256, 'learning_rate': 2.056389825314128e-06, 'num_tokens': 64509952.0, 'mean_token_accuracy': 0.6171281814575196, 'epoch': 4.797441364605544}\n",
      "{'loss': 1.2723, 'grad_norm': 1.0161268711090088, 'learning_rate': 1.9031566043518236e-06, 'num_tokens': 64714752.0, 'mean_token_accuracy': 0.62410469353199, 'epoch': 4.812671337191593}\n",
      "{'loss': 1.3041, 'grad_norm': 1.1298494338989258, 'learning_rate': 1.7499233833895189e-06, 'num_tokens': 64919552.0, 'mean_token_accuracy': 0.6159686875343323, 'epoch': 4.827901309777642}\n",
      "{'loss': 1.2863, 'grad_norm': 1.052687644958496, 'learning_rate': 1.5966901624272144e-06, 'num_tokens': 65124352.0, 'mean_token_accuracy': 0.6202935421466828, 'epoch': 4.843131282363692}\n",
      "{'loss': 1.2919, 'grad_norm': 1.0241681337356567, 'learning_rate': 1.4434569414649097e-06, 'num_tokens': 65329152.0, 'mean_token_accuracy': 0.6189677107334137, 'epoch': 4.858361254949741}\n",
      "{'loss': 1.2963, 'grad_norm': 1.1008434295654297, 'learning_rate': 1.290223720502605e-06, 'num_tokens': 65533952.0, 'mean_token_accuracy': 0.6182240712642669, 'epoch': 4.87359122753579}\n",
      "{'loss': 1.3105, 'grad_norm': 1.1072946786880493, 'learning_rate': 1.1369904995403003e-06, 'num_tokens': 65738752.0, 'mean_token_accuracy': 0.6149559712409973, 'epoch': 4.88882120012184}\n",
      "{'loss': 1.3039, 'grad_norm': 1.098249912261963, 'learning_rate': 9.837572785779958e-07, 'num_tokens': 65943552.0, 'mean_token_accuracy': 0.6154060679674148, 'epoch': 4.904051172707889}\n",
      "{'loss': 1.2901, 'grad_norm': 1.1292622089385986, 'learning_rate': 8.30524057615691e-07, 'num_tokens': 66148352.0, 'mean_token_accuracy': 0.6199755370616913, 'epoch': 4.9192811452939385}\n",
      "{'loss': 1.2875, 'grad_norm': 1.058540940284729, 'learning_rate': 6.803555010726326e-07, 'num_tokens': 66353152.0, 'mean_token_accuracy': 0.620029354095459, 'epoch': 4.934511117879988}\n",
      "{'loss': 1.295, 'grad_norm': 1.0900647640228271, 'learning_rate': 5.27122280110328e-07, 'num_tokens': 66557952.0, 'mean_token_accuracy': 0.6177837580442429, 'epoch': 4.949741090466037}\n",
      "{'loss': 1.2977, 'grad_norm': 1.0146209001541138, 'learning_rate': 3.738890591480233e-07, 'num_tokens': 66762752.0, 'mean_token_accuracy': 0.6171624249219895, 'epoch': 4.9649710630520865}\n",
      "{'loss': 1.3016, 'grad_norm': 1.0987434387207031, 'learning_rate': 2.2065583818571865e-07, 'num_tokens': 66967552.0, 'mean_token_accuracy': 0.6152837586402893, 'epoch': 4.980201035638136}\n",
      "{'loss': 1.2982, 'grad_norm': 1.106642246246338, 'learning_rate': 6.742261722341404e-08, 'num_tokens': 67172352.0, 'mean_token_accuracy': 0.6177103728055954, 'epoch': 4.995431008224185}\n",
      "{'train_runtime': 71192.5627, 'train_samples_per_second': 1.845, 'train_steps_per_second': 0.231, 'train_loss': 1.3349352821212987, 'num_tokens': 67233280.0, 'mean_token_accuracy': 0.6201456785202026, 'epoch': 5.0}\n"
     ]
    },
    {
     "data": {
      "text/plain": [
       "TrainOutput(global_step=16415, training_loss=1.3349352821212987, metrics={'train_runtime': 71192.5627, 'train_samples_per_second': 1.845, 'train_steps_per_second': 0.231, 'total_flos': 4.177763540611891e+17, 'train_loss': 1.3349352821212987})"
      ]
     },
     "execution_count": 15,
     "metadata": {},
     "output_type": "execute_result"
    }
   ],
   "source": [
    "trainer = SFTTrainer(\n",
    "    model=model,\n",
    "    args=training_args,\n",
    "    train_dataset=tokenized_train,\n",
    "    eval_dataset=tokenized_val,\n",
    ")\n",
    "\n",
    "trainer.train()"
   ]
  },
  {
   "cell_type": "code",
   "execution_count": 19,
   "id": "f50e1659-a946-4085-ae8d-66d75ced940e",
   "metadata": {},
   "outputs": [],
   "source": [
    "trainer.save_model()"
   ]
  },
  {
   "cell_type": "code",
   "execution_count": 28,
   "id": "234c2d7d-7332-43da-9fce-4bc289e2ce2f",
   "metadata": {},
   "outputs": [
    {
     "data": {
      "text/plain": [
       "('./tinyllama-lora-xlsum2\\\\tokenizer_config.json',\n",
       " './tinyllama-lora-xlsum2\\\\special_tokens_map.json',\n",
       " './tinyllama-lora-xlsum2\\\\tokenizer.model',\n",
       " './tinyllama-lora-xlsum2\\\\added_tokens.json',\n",
       " './tinyllama-lora-xlsum2\\\\tokenizer.json')"
      ]
     },
     "execution_count": 28,
     "metadata": {},
     "output_type": "execute_result"
    }
   ],
   "source": [
    "# Save model and tokenizer\n",
    "model.save_pretrained(\"./tinyllama-lora-xlsum2\")\n",
    "tokenizer.save_pretrained(\"./tinyllama-lora-xlsum2\")"
   ]
  },
  {
   "cell_type": "code",
   "execution_count": 20,
   "id": "f32bc00a-28e6-492c-876d-fe8c74a46153",
   "metadata": {},
   "outputs": [],
   "source": [
    "model = AutoModelForCausalLM.from_pretrained(\"./tinyllama-xlsum-arabic2\")\n",
    "tokenizer = AutoTokenizer.from_pretrained(\"./tinyllama-xlsum-arabic2\")"
   ]
  },
  {
   "cell_type": "code",
   "execution_count": 22,
   "id": "6c6c3ffb-48e8-4772-b07d-a1ebc90ebfd9",
   "metadata": {},
   "outputs": [],
   "source": [
    "model = AutoModelForCausalLM.from_pretrained(\"./tinyllama-xlsum-arabic2\").to(\"cpu\")"
   ]
  },
  {
   "cell_type": "code",
   "execution_count": 23,
   "id": "5ba869c0-c449-4dd4-badd-7957a265f016",
   "metadata": {},
   "outputs": [],
   "source": [
    "# Load trainer state logs\n",
    "with open(\"./tinyllama-xlsum-arabic2/checkpoint-16415/trainer_state.json\", \"r\") as f:\n",
    "    trainer_state = json.load(f)"
   ]
  },
  {
   "cell_type": "code",
   "execution_count": 25,
   "id": "c48b1e78-a944-486d-bc2d-e04384d9a11c",
   "metadata": {},
   "outputs": [],
   "source": [
    "# Get training log history\n",
    "log_history = trainer.state.log_history"
   ]
  },
  {
   "cell_type": "code",
   "execution_count": 26,
   "id": "358d47b2-a9b9-407f-bbcf-09eb46d744a2",
   "metadata": {},
   "outputs": [
    {
     "data": {
      "image/png": "[encoded data removed]",
      "text/plain": [
       "<Figure size 640x480 with 1 Axes>"
      ]
     },
     "metadata": {},
     "output_type": "display_data"
    }
   ],
   "source": [
    "train_steps = [entry[\"step\"] for entry in log_history if \"loss\" in entry]\n",
    "train_losses = [entry[\"loss\"] for entry in log_history if \"loss\" in entry]\n",
    "\n",
    "plt.plot(train_steps, train_losses, label=\"Training Loss\", color='blue')\n",
    "plt.xlabel(\"Steps\")\n",
    "plt.ylabel(\"Loss\")\n",
    "plt.title(\"Training Loss Over Steps\")\n",
    "plt.legend()\n",
    "plt.grid(True)\n",
    "plt.tight_layout()\n",
    "plt.show()"
   ]
  },
  {
   "cell_type": "code",
   "execution_count": 27,
   "id": "9eb5e805-7d53-495f-afd1-c14c031612cd",
   "metadata": {},
   "outputs": [
    {
     "data": {
      "image/png": "[encoded data removed]",
      "text/plain": [
       "<Figure size 640x480 with 1 Axes>"
      ]
     },
     "metadata": {},
     "output_type": "display_data"
    }
   ],
   "source": [
    "train_steps = [entry[\"step\"] for entry in log_history if \"mean_token_accuracy\" in entry]\n",
    "train_accuracy = [entry[\"mean_token_accuracy\"] for entry in log_history if \"mean_token_accuracy\" in entry]\n",
    "\n",
    "plt.plot(train_steps, train_accuracy, label=\"Training Accuracy\", color='blue')\n",
    "plt.xlabel(\"Steps\")\n",
    "plt.ylabel(\"Accuracy\")\n",
    "plt.title(\"Training Accuracy Over Steps\")\n",
    "plt.legend()\n",
    "plt.grid(True)\n",
    "plt.tight_layout()\n",
    "plt.show()"
   ]
  },
  {
   "cell_type": "code",
   "execution_count": 40,
   "id": "ffa548c0-bc57-4881-85d4-397e94d90263",
   "metadata": {},
   "outputs": [],
   "source": [
    "# Grenerate summary\n",
    "def generate_summary(text):\n",
    "    prompt = f\"Summarize this article:\\n\\n{text}\\n\\nSummary:\"\n",
    "    inputs = tokenizer(prompt, return_tensors=\"pt\", truncation=True, max_length=2048)\n",
    "    summary_ids = model.generate(\n",
    "        **inputs,\n",
    "        max_new_tokens=128,   \n",
    "        num_beams=4,\n",
    "        early_stopping=True\n",
    "    )\n",
    "    return tokenizer.decode(summary_ids[0], skip_special_tokens=True)"
   ]
  },
  {
   "cell_type": "code",
   "execution_count": 41,
   "id": "0b2ba77c-1577-411a-92d3-4b1e5d40ab71",
   "metadata": {},
   "outputs": [
    {
     "name": "stdout",
     "output_type": "stream",
     "text": [
      "Summarize this article:\n",
      "\n",
      "التكنولوجيا الحديثة أصبحت جزءًا لا يتجزأ من حياتنا اليومية ...\n",
      "\n",
      "Summary: أعلنت منظمة التكنولوجيا الحديثة أنها تعتقد أنها تعمل في مجال التكنولوجيا الحديثة والتكنولوجيا الحديثة أصبحت جزءًا لا يتجزأ من حياتنا اليومية.\n"
     ]
    }
   ],
   "source": [
    "# Example\n",
    "sample_text = \"التكنولوجيا الحديثة أصبحت جزءًا لا يتجزأ من حياتنا اليومية ...\"\n",
    "print(generate_summary(sample_text))"
   ]
  },
  {
   "cell_type": "code",
   "execution_count": 42,
   "id": "3556bc6b-35a7-4099-bf22-c09253a87d4c",
   "metadata": {},
   "outputs": [
    {
     "name": "stdout",
     "output_type": "stream",
     "text": [
      "Summarize this article:\n",
      "\n",
      "شهدت السنوات الأخيرة تطورًا هائلًا في مجال التكنولوجيا، حيث أصبحت الأجهزة الذكية مثل الهواتف المحمولة والحواسيب اللوحية جزءًا لا يتجزأ من حياتنا اليومية. لم يعد استخدام الإنترنت مقتصرًا على الترفيه أو التواصل الاجتماعي فحسب، بل أصبح وسيلة رئيسية للعمل والتعليم والتجارة. ساهمت تطبيقات الذكاء الاصطناعي وتعلم الآلة في تحسين الخدمات الصحية من خلال تحليل البيانات الطبية والتشخيص المبكر للأمراض.\n",
      "وعلى الصعيد الاقتصادي، أدت التكنولوجيا إلى نشوء مجالات عمل جديدة مثل التسويق الرقمي، وتطوير التطبيقات، والعمل عن بُعد، مما أتاح فرصًا وظيفية واسعة للأفراد حول العالم. كما ساهمت تقنيات الواقع الافتراضي والواقع المعزز في تحويل طريقة تفاعلنا مع البيئة الرقمية.\n",
      "في المقابل، أثارت هذه التغيرات السريعة تحديات عدة تتعلق بالخصوصية الرقمية وأمن المعلومات، إذ أصبحت الهجمات السيبرانية أكثر تعقيدًا وخطورة. لذلك، بات من الضروري تعزيز الوعي المجتمعي بأهمية حماية البيانات الشخصية، وتحديث السياسات والقوانين التي تنظم استخدام التكنولوجيا.\n",
      "وفي الختام، لا شك أن التكنولوجيا الحديثة قدمت فوائد عظيمة للبشرية، لكن الاستفادة منها تتطلب توازنًا بين التطور التقني والحفاظ على القيم الإنسانية.\n",
      "\n",
      "Summary: في المقابل، أثارت هذه التغيرات السريعة تحديات عدة تتعلق بالخصوصية الرقمية وأمن المعلومات، إذ أصبحت الهجمات السيبرانية أكثر تعقيدًا وخطورة.\n"
     ]
    }
   ],
   "source": [
    "# Example\n",
    "sample_text = \"\"\"شهدت السنوات الأخيرة تطورًا هائلًا في مجال التكنولوجيا، حيث أصبحت الأجهزة الذكية مثل الهواتف المحمولة والحواسيب اللوحية جزءًا لا يتجزأ من حياتنا اليومية. لم يعد استخدام الإنترنت مقتصرًا على الترفيه أو التواصل الاجتماعي فحسب، بل أصبح وسيلة رئيسية للعمل والتعليم والتجارة. ساهمت تطبيقات الذكاء الاصطناعي وتعلم الآلة في تحسين الخدمات الصحية من خلال تحليل البيانات الطبية والتشخيص المبكر للأمراض.\n",
    "وعلى الصعيد الاقتصادي، أدت التكنولوجيا إلى نشوء مجالات عمل جديدة مثل التسويق الرقمي، وتطوير التطبيقات، والعمل عن بُعد، مما أتاح فرصًا وظيفية واسعة للأفراد حول العالم. كما ساهمت تقنيات الواقع الافتراضي والواقع المعزز في تحويل طريقة تفاعلنا مع البيئة الرقمية.\n",
    "في المقابل، أثارت هذه التغيرات السريعة تحديات عدة تتعلق بالخصوصية الرقمية وأمن المعلومات، إذ أصبحت الهجمات السيبرانية أكثر تعقيدًا وخطورة. لذلك، بات من الضروري تعزيز الوعي المجتمعي بأهمية حماية البيانات الشخصية، وتحديث السياسات والقوانين التي تنظم استخدام التكنولوجيا.\n",
    "وفي الختام، لا شك أن التكنولوجيا الحديثة قدمت فوائد عظيمة للبشرية، لكن الاستفادة منها تتطلب توازنًا بين التطور التقني والحفاظ على القيم الإنسانية.\"\"\"\n",
    "print(generate_summary(sample_text))"
   ]
  },
  {
   "cell_type": "code",
   "execution_count": 43,
   "id": "538e9b77-e6b6-4ec5-89aa-e390529dd552",
   "metadata": {},
   "outputs": [
    {
     "name": "stdout",
     "output_type": "stream",
     "text": [
      "Summarize this article:\n",
      "\n",
      "شهد العالم خلال العقود الأخيرة تحولًا جذريًا في طريقة عيش الأفراد وعملهم وتواصلهم، بفضل التقدم السريع في مجال التكنولوجيا الرقمية. فقد أصبحت الأجهزة الذكية والتقنيات المتطورة مثل الإنترنت عالي السرعة، والذكاء الاصطناعي، والحوسبة السحابية، جزءًا لا يتجزأ من الحياة اليومية لملايين البشر حول العالم.\n",
      "في مجال التعليم، ساهمت التكنولوجيا في إحداث نقلة نوعية، حيث ظهرت منصات التعلم عن بُعد التي مكّنت الطلاب من متابعة دراستهم من أي مكان في العالم. كما أصبح من الممكن تقديم محاضرات افتراضية، وتصميم مناهج تفاعلية تعتمد على الفيديوهات والمحاكاة والألعاب التعليمية، مما عزز من فاعلية العملية التعليمية وقلل الفجوة بين المتعلمين.\n",
      "أما في قطاع الصحة، فقد مكّن الذكاء الاصطناعي الأطباء من تشخيص الأمراض بدقة وسرعة من خلال تحليل الصور الطبية والبيانات السريرية. وأصبحت الروبوتات تُستخدم في بعض العمليات الجراحية الدقيقة، بينما ساعدت تطبيقات الهواتف في متابعة الحالة الصحية للمرضى وتنبيههم بشأن الأدوية أو مواعيد الفحوصات.\n",
      "من الناحية الاقتصادية، أدت هذه الثورة الرقمية إلى خلق فرص جديدة للأعمال، مثل التجارة الإلكترونية وتطوير التطبيقات والعمل الحر عبر الإنترنت. وساعدت الحوسبة السحابية الشركات على تخزين البيانات وتشغيل الأنظمة عن بُعد، مما قلل من التكاليف التشغيلية وسهّل التوسع في الأسواق العالمية.\n",
      "في المقابل، أثار هذا التطور السريع مخاوف متزايدة بشأن أمن المعلومات والخصوصية الرقمية. إذ أصبحت الهجمات السيبرانية أكثر تعقيدًا وتهديدًا للبنى التحتية الحيوية، مما استدعى تعزيز وسائل الحماية وتحديث التشريعات القانونية المرتبطة بالفضاء الرقمي. كما زادت الحاجة إلى توعية الأفراد حول كيفية حماية بياناتهم الشخصية وتفادي التهديدات الإلكترونية.\n",
      "ولا يمكن إغفال التأثير الاجتماعي لهذا التحول، حيث تغيرت طبيعة العلاقات الاجتماعية وأصبح التواصل يعتمد بشكل كبير على الوسائط الرقمية، مما أثار نقاشات حول تأثير التكنولوجيا على العلاقات الإنسانية والتفاعل الواقعي.\n",
      "وفي الختام، فإن التكنولوجيا الحديثة رغم ما تقدمه من فوائد كبيرة، تفرض تحديات معقدة تتطلب وعيًا مجتمعيًا وتعاونًا دوليًا لضمان استخدامها بما يخدم الإنسان ويحافظ على القيم الأساسية للمجتمعات.\n",
      "\n",
      "Summary: شهد العالم خلال العقود الأخيرة تحولًا جذريًا في طريقة عيش الأفراد.\n"
     ]
    }
   ],
   "source": [
    "# Example\n",
    "sample_text = \"\"\"شهد العالم خلال العقود الأخيرة تحولًا جذريًا في طريقة عيش الأفراد وعملهم وتواصلهم، بفضل التقدم السريع في مجال التكنولوجيا الرقمية. فقد أصبحت الأجهزة الذكية والتقنيات المتطورة مثل الإنترنت عالي السرعة، والذكاء الاصطناعي، والحوسبة السحابية، جزءًا لا يتجزأ من الحياة اليومية لملايين البشر حول العالم.\n",
    "في مجال التعليم، ساهمت التكنولوجيا في إحداث نقلة نوعية، حيث ظهرت منصات التعلم عن بُعد التي مكّنت الطلاب من متابعة دراستهم من أي مكان في العالم. كما أصبح من الممكن تقديم محاضرات افتراضية، وتصميم مناهج تفاعلية تعتمد على الفيديوهات والمحاكاة والألعاب التعليمية، مما عزز من فاعلية العملية التعليمية وقلل الفجوة بين المتعلمين.\n",
    "أما في قطاع الصحة، فقد مكّن الذكاء الاصطناعي الأطباء من تشخيص الأمراض بدقة وسرعة من خلال تحليل الصور الطبية والبيانات السريرية. وأصبحت الروبوتات تُستخدم في بعض العمليات الجراحية الدقيقة، بينما ساعدت تطبيقات الهواتف في متابعة الحالة الصحية للمرضى وتنبيههم بشأن الأدوية أو مواعيد الفحوصات.\n",
    "من الناحية الاقتصادية، أدت هذه الثورة الرقمية إلى خلق فرص جديدة للأعمال، مثل التجارة الإلكترونية وتطوير التطبيقات والعمل الحر عبر الإنترنت. وساعدت الحوسبة السحابية الشركات على تخزين البيانات وتشغيل الأنظمة عن بُعد، مما قلل من التكاليف التشغيلية وسهّل التوسع في الأسواق العالمية.\n",
    "في المقابل، أثار هذا التطور السريع مخاوف متزايدة بشأن أمن المعلومات والخصوصية الرقمية. إذ أصبحت الهجمات السيبرانية أكثر تعقيدًا وتهديدًا للبنى التحتية الحيوية، مما استدعى تعزيز وسائل الحماية وتحديث التشريعات القانونية المرتبطة بالفضاء الرقمي. كما زادت الحاجة إلى توعية الأفراد حول كيفية حماية بياناتهم الشخصية وتفادي التهديدات الإلكترونية.\n",
    "ولا يمكن إغفال التأثير الاجتماعي لهذا التحول، حيث تغيرت طبيعة العلاقات الاجتماعية وأصبح التواصل يعتمد بشكل كبير على الوسائط الرقمية، مما أثار نقاشات حول تأثير التكنولوجيا على العلاقات الإنسانية والتفاعل الواقعي.\n",
    "وفي الختام، فإن التكنولوجيا الحديثة رغم ما تقدمه من فوائد كبيرة، تفرض تحديات معقدة تتطلب وعيًا مجتمعيًا وتعاونًا دوليًا لضمان استخدامها بما يخدم الإنسان ويحافظ على القيم الأساسية للمجتمعات.\"\"\"\n",
    "print(generate_summary(sample_text))"
   ]
  }
 ],
 "metadata": {
  "kernelspec": {
   "display_name": "Python 3 (ipykernel)",
   "language": "python",
   "name": "python3"
  },
  "language_info": {
   "codemirror_mode": {
    "name": "ipython",
    "version": 3
   },
   "file_extension": ".py",
   "mimetype": "text/x-python",
   "name": "python",
   "nbconvert_exporter": "python",
   "pygments_lexer": "ipython3",
   "version": "3.12.9"
  }
 },
 "nbformat": 4,
 "nbformat_minor": 5
}
